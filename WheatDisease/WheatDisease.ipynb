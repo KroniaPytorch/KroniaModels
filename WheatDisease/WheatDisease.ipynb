{
 "cells": [
  {
   "cell_type": "code",
   "execution_count": null,
   "id": "5d8f4a8a",
   "metadata": {},
   "outputs": [],
   "source": [
    "import sys\n",
    "sys.path.append(r'../HelperFunctions')\n",
    "import DataHelper as dh\n",
    "import AugHelper as ah\n",
    "import ModelConfigHelper as mch"
   ]
  },
  {
   "cell_type": "code",
   "execution_count": null,
   "id": "839cf0a8",
   "metadata": {},
   "outputs": [],
   "source": [
    "path_info = dh.getFileDirectory()\n",
    "path_info"
   ]
  },
  {
   "cell_type": "code",
   "execution_count": null,
   "id": "cce123b2",
   "metadata": {},
   "outputs": [],
   "source": [
    "dh.showFileCount(pathInfo=path_info)"
   ]
  },
  {
   "cell_type": "code",
   "execution_count": null,
   "id": "19083f48",
   "metadata": {},
   "outputs": [],
   "source": [
    "df = dh.getDataFrame(pathInfo=path_info)\n",
    "df.info()\n",
    "df.dtypes\n",
    "df"
   ]
  },
  {
   "cell_type": "code",
   "execution_count": null,
   "id": "951b7335",
   "metadata": {},
   "outputs": [],
   "source": [
    "from PIL import Image\n",
    "img = Image.open(df.iloc[5,0])\n",
    "img"
   ]
  },
  {
   "cell_type": "code",
   "execution_count": null,
   "id": "f965ea55",
   "metadata": {},
   "outputs": [],
   "source": [
    "dictlabels=dh.getLabelDicts(df=df)\n",
    "dictlabels"
   ]
  },
  {
   "cell_type": "code",
   "execution_count": null,
   "id": "c000a6d3",
   "metadata": {},
   "outputs": [],
   "source": [
    "df = dh.dfPreProcess(df=df)\n",
    "df.info()\n",
    "df.dtypes\n",
    "df"
   ]
  },
  {
   "cell_type": "code",
   "execution_count": null,
   "id": "0f9fdc04",
   "metadata": {},
   "outputs": [],
   "source": [
    "from sklearn.model_selection import train_test_split\n",
    "X_train,X_val = train_test_split(df,test_size=0.2)"
   ]
  },
  {
   "cell_type": "code",
   "execution_count": null,
   "id": "27c434c0",
   "metadata": {},
   "outputs": [],
   "source": [
    "augDict = ah.getAugmentation(augmentRequired=False)\n",
    "augDict"
   ]
  },
  {
   "cell_type": "code",
   "execution_count": null,
   "id": "92c7356a",
   "metadata": {},
   "outputs": [],
   "source": [
    "imgTransform = ah.getImageTransform(300)\n",
    "imgTransform"
   ]
  },
  {
   "cell_type": "code",
   "execution_count": null,
   "id": "9247b7fa",
   "metadata": {},
   "outputs": [],
   "source": [
    "X_train"
   ]
  },
  {
   "cell_type": "code",
   "execution_count": null,
   "id": "bf7565e6",
   "metadata": {},
   "outputs": [],
   "source": [
    "X_train = ah.augmentDataFrame(df=X_train,augDict=augDict)\n",
    "X_train['augmentation'].unique()"
   ]
  },
  {
   "cell_type": "code",
   "execution_count": null,
   "id": "637c0a2d",
   "metadata": {},
   "outputs": [],
   "source": [
    "X_val"
   ]
  },
  {
   "cell_type": "code",
   "execution_count": null,
   "id": "348461ad",
   "metadata": {},
   "outputs": [],
   "source": [
    "X_val['augmentation'].unique()"
   ]
  },
  {
   "cell_type": "code",
   "execution_count": null,
   "id": "4abaecfd",
   "metadata": {},
   "outputs": [],
   "source": [
    "train_ds  = ah.KroniaDataset(data=X_train,transforms=imgTransform)\n",
    "val_ds = ah.KroniaDataset(data=X_train,transforms=imgTransform)"
   ]
  },
  {
   "cell_type": "code",
   "execution_count": null,
   "id": "cb505ec8",
   "metadata": {},
   "outputs": [],
   "source": [
    "import torch\n",
    "import torch.nn as nn\n",
    "import torch.nn.functional as F\n",
    "import torch.optim as optim\n",
    "from torch.utils.data import DataLoader\n",
    "from WheatModel import WheatClassifier"
   ]
  },
  {
   "cell_type": "code",
   "execution_count": null,
   "id": "2f56022e",
   "metadata": {},
   "outputs": [],
   "source": [
    "train_dl = DataLoader(dataset=train_ds,batch_size=32,shuffle=True)\n",
    "val_dl = DataLoader(dataset=val_ds,batch_size=32,shuffle=True)"
   ]
  },
  {
   "cell_type": "code",
   "execution_count": null,
   "id": "1cd0590a",
   "metadata": {},
   "outputs": [],
   "source": [
    "torch.manual_seed(42)\n",
    "model = WheatClassifier()\n",
    "criterion = nn.CrossEntropyLoss()\n",
    "optimizer = torch.optim.Adam(model.parameters(), lr=0.005)"
   ]
  },
  {
   "cell_type": "code",
   "execution_count": null,
   "id": "0f7da27e",
   "metadata": {},
   "outputs": [],
   "source": [
    "train_loss,val_loss = mch.trainModel(model=model,train_dl=train_dl,val_dl=val_dl,criterion=criterion,optim=optimizer,train_samples=len(X_train),batch_size=32,soft_max=True,epochs=5,squeeze_req=True)"
   ]
  },
  {
   "cell_type": "code",
   "execution_count": null,
   "id": "38ba9e56",
   "metadata": {},
   "outputs": [],
   "source": [
    "mch.visualiziseTrainResults(train_losses=train_loss,test_losses=val_loss)"
   ]
  },
  {
   "cell_type": "code",
   "execution_count": null,
   "id": "cffaad34",
   "metadata": {},
   "outputs": [],
   "source": [
    "# mch.saveModel(model=model,filename=\"WheatModelWeights\")"
   ]
  }
 ],
 "metadata": {
  "kernelspec": {
   "display_name": "Python 3 (ipykernel)",
   "language": "python",
   "name": "python3"
  },
  "language_info": {
   "codemirror_mode": {
    "name": "ipython",
    "version": 3
   },
   "file_extension": ".py",
   "mimetype": "text/x-python",
   "name": "python",
   "nbconvert_exporter": "python",
   "pygments_lexer": "ipython3",
   "version": "3.9.7"
  }
 },
 "nbformat": 4,
 "nbformat_minor": 5
}
