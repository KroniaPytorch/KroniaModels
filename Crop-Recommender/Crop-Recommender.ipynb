{
 "cells": [
  {
   "cell_type": "markdown",
   "metadata": {},
   "source": [
    "# Crop Recommender- Pytorch Annual Hackathon"
   ]
  },
  {
   "cell_type": "markdown",
   "metadata": {},
   "source": [
    "![](https://1.bp.blogspot.com/-HmqApqMJ_cc/XQvkp0_QUpI/AAAAAAAAAQc/cxCPibnJ5g4k_EjZWmTvr_wDAF7lCa8uQCLcBGAs/s1600/Tractor%2B1.JPG)"
   ]
  },
  {
   "cell_type": "markdown",
   "metadata": {},
   "source": [
    "# Background\n",
    "\n",
    "Smart farming is currently popular. Precision agriculture is a contemporary agricultural strategy that combines data from soil characteristics, soil types, crop production statistics, and meteorological variables to recommend the best crop to farmers for optimum yield and profit. This method can help farmers make more informed decisions about their agricultural strategy by reducing crop failures.\n",
    "\n",
    "To ease the agricultural crisis in the current state of affairs, stronger recommendation systems are required to assist farmers in making educated decisions before beginning crop production."
   ]
  },
  {
   "cell_type": "markdown",
   "metadata": {},
   "source": [
    "# Objective\n",
    "**To propose optimal crops for farmers to plant based on a variety of characteristics and to assist them in making an educated decision prior to cultivation.**"
   ]
  },
  {
   "cell_type": "markdown",
   "metadata": {},
   "source": [
    "# Vision after Dataset "
   ]
  },
  {
   "cell_type": "markdown",
   "metadata": {},
   "source": [
    "The data used in this project is made by augmenting and combining various publicly available datasets of India like weather, soil, etc. You can access the dataset [here](https://www.kaggle.com/atharvaingle/crop-recommendation-dataset). This data is relatively simple with very few but useful features unlike the complicated features affecting the yield of the crop.\n",
    "\n",
    "The data have Nitrogen, Phosphorous, Pottasium and pH values of the soil. Also, it also contains the humidity, temperature and rainfall required for a particular crop. "
   ]
  },
  {
   "cell_type": "code",
   "execution_count": 46,
   "metadata": {
    "execution": {
     "iopub.execute_input": "2021-10-29T15:54:19.273811Z",
     "iopub.status.busy": "2021-10-29T15:54:19.273477Z",
     "iopub.status.idle": "2021-10-29T15:54:19.280051Z",
     "shell.execute_reply": "2021-10-29T15:54:19.278912Z",
     "shell.execute_reply.started": "2021-10-29T15:54:19.273781Z"
    }
   },
   "outputs": [],
   "source": [
    "# Importing libraries\n",
    "\n",
    "from __future__ import print_function\n",
    "import pandas as pd\n",
    "import numpy as np\n",
    "import matplotlib.pyplot as plt\n",
    "import seaborn as sns\n",
    "from sklearn.metrics import classification_report\n",
    "from sklearn import metrics\n",
    "from sklearn import tree\n",
    "import warnings\n",
    "warnings.filterwarnings('ignore')"
   ]
  },
  {
   "cell_type": "markdown",
   "metadata": {},
   "source": [
    "# Reading and Visualizing the Dataset"
   ]
  },
  {
   "cell_type": "code",
   "execution_count": 47,
   "metadata": {
    "execution": {
     "iopub.execute_input": "2021-10-29T15:54:19.282338Z",
     "iopub.status.busy": "2021-10-29T15:54:19.281781Z",
     "iopub.status.idle": "2021-10-29T15:54:19.301831Z",
     "shell.execute_reply": "2021-10-29T15:54:19.300933Z",
     "shell.execute_reply.started": "2021-10-29T15:54:19.282298Z"
    }
   },
   "outputs": [],
   "source": [
    "PATH = '../input/crop-recommendation-dataset/Crop_recommendation.csv'\n",
    "df = pd.read_csv(PATH)"
   ]
  },
  {
   "cell_type": "code",
   "execution_count": 48,
   "metadata": {
    "execution": {
     "iopub.execute_input": "2021-10-29T15:54:19.304806Z",
     "iopub.status.busy": "2021-10-29T15:54:19.304448Z",
     "iopub.status.idle": "2021-10-29T15:54:19.316980Z",
     "shell.execute_reply": "2021-10-29T15:54:19.316100Z",
     "shell.execute_reply.started": "2021-10-29T15:54:19.304761Z"
    }
   },
   "outputs": [],
   "source": [
    "df.head()"
   ]
  },
  {
   "cell_type": "code",
   "execution_count": 49,
   "metadata": {
    "execution": {
     "iopub.execute_input": "2021-10-29T15:54:19.320097Z",
     "iopub.status.busy": "2021-10-29T15:54:19.319657Z",
     "iopub.status.idle": "2021-10-29T15:54:19.336333Z",
     "shell.execute_reply": "2021-10-29T15:54:19.335521Z",
     "shell.execute_reply.started": "2021-10-29T15:54:19.320060Z"
    }
   },
   "outputs": [],
   "source": [
    "df.tail()"
   ]
  },
  {
   "cell_type": "code",
   "execution_count": 50,
   "metadata": {
    "execution": {
     "iopub.execute_input": "2021-10-29T15:54:19.338058Z",
     "iopub.status.busy": "2021-10-29T15:54:19.337541Z",
     "iopub.status.idle": "2021-10-29T15:54:19.343655Z",
     "shell.execute_reply": "2021-10-29T15:54:19.342766Z",
     "shell.execute_reply.started": "2021-10-29T15:54:19.338008Z"
    }
   },
   "outputs": [],
   "source": [
    "df.size"
   ]
  },
  {
   "cell_type": "code",
   "execution_count": 51,
   "metadata": {
    "execution": {
     "iopub.execute_input": "2021-10-29T15:54:19.345695Z",
     "iopub.status.busy": "2021-10-29T15:54:19.345134Z",
     "iopub.status.idle": "2021-10-29T15:54:19.353684Z",
     "shell.execute_reply": "2021-10-29T15:54:19.352752Z",
     "shell.execute_reply.started": "2021-10-29T15:54:19.345659Z"
    }
   },
   "outputs": [],
   "source": [
    "df.shape"
   ]
  },
  {
   "cell_type": "code",
   "execution_count": 52,
   "metadata": {
    "execution": {
     "iopub.execute_input": "2021-10-29T15:54:19.355597Z",
     "iopub.status.busy": "2021-10-29T15:54:19.355120Z",
     "iopub.status.idle": "2021-10-29T15:54:19.364400Z",
     "shell.execute_reply": "2021-10-29T15:54:19.363489Z",
     "shell.execute_reply.started": "2021-10-29T15:54:19.355561Z"
    }
   },
   "outputs": [],
   "source": [
    "df.columns"
   ]
  },
  {
   "cell_type": "code",
   "execution_count": 53,
   "metadata": {
    "execution": {
     "iopub.execute_input": "2021-10-29T15:54:19.367335Z",
     "iopub.status.busy": "2021-10-29T15:54:19.366917Z",
     "iopub.status.idle": "2021-10-29T15:54:19.376590Z",
     "shell.execute_reply": "2021-10-29T15:54:19.375474Z",
     "shell.execute_reply.started": "2021-10-29T15:54:19.367244Z"
    }
   },
   "outputs": [],
   "source": [
    "df['label'].unique()"
   ]
  },
  {
   "cell_type": "code",
   "execution_count": 54,
   "metadata": {
    "execution": {
     "iopub.execute_input": "2021-10-29T15:54:19.378953Z",
     "iopub.status.busy": "2021-10-29T15:54:19.378402Z",
     "iopub.status.idle": "2021-10-29T15:54:19.387526Z",
     "shell.execute_reply": "2021-10-29T15:54:19.386537Z",
     "shell.execute_reply.started": "2021-10-29T15:54:19.378918Z"
    }
   },
   "outputs": [],
   "source": [
    "df.dtypes"
   ]
  },
  {
   "cell_type": "code",
   "execution_count": 55,
   "metadata": {
    "execution": {
     "iopub.execute_input": "2021-10-29T15:54:19.389825Z",
     "iopub.status.busy": "2021-10-29T15:54:19.389413Z",
     "iopub.status.idle": "2021-10-29T15:54:19.401088Z",
     "shell.execute_reply": "2021-10-29T15:54:19.400197Z",
     "shell.execute_reply.started": "2021-10-29T15:54:19.389733Z"
    }
   },
   "outputs": [],
   "source": [
    "df['label'].value_counts()"
   ]
  },
  {
   "cell_type": "code",
   "execution_count": 56,
   "metadata": {
    "execution": {
     "iopub.execute_input": "2021-10-29T15:54:19.403112Z",
     "iopub.status.busy": "2021-10-29T15:54:19.402457Z",
     "iopub.status.idle": "2021-10-29T15:54:19.724561Z",
     "shell.execute_reply": "2021-10-29T15:54:19.723723Z",
     "shell.execute_reply.started": "2021-10-29T15:54:19.403075Z"
    }
   },
   "outputs": [],
   "source": [
    "sns.heatmap(df.corr(),annot=True)"
   ]
  },
  {
   "cell_type": "markdown",
   "metadata": {},
   "source": [
    "## Preprocessing the data"
   ]
  },
  {
   "cell_type": "code",
   "execution_count": 57,
   "metadata": {
    "execution": {
     "iopub.execute_input": "2021-10-29T15:54:19.727612Z",
     "iopub.status.busy": "2021-10-29T15:54:19.727096Z",
     "iopub.status.idle": "2021-10-29T15:54:19.752334Z",
     "shell.execute_reply": "2021-10-29T15:54:19.751476Z",
     "shell.execute_reply.started": "2021-10-29T15:54:19.727572Z"
    }
   },
   "outputs": [],
   "source": [
    "from sklearn import preprocessing\n",
    " \n",
    "# label_encoder object knows how to understand word labels.\n",
    "label_encoder = preprocessing.LabelEncoder()\n",
    "\n",
    "df['labelE']= label_encoder.fit_transform(df['label'].values)\n",
    "\n",
    "df2=df.copy()\n",
    "\n",
    "df2=df2.drop_duplicates('label')\n",
    "\n",
    "df2"
   ]
  },
  {
   "cell_type": "code",
   "execution_count": 58,
   "metadata": {
    "execution": {
     "iopub.execute_input": "2021-10-29T15:54:19.755219Z",
     "iopub.status.busy": "2021-10-29T15:54:19.754716Z",
     "iopub.status.idle": "2021-10-29T15:54:19.762764Z",
     "shell.execute_reply": "2021-10-29T15:54:19.761912Z",
     "shell.execute_reply.started": "2021-10-29T15:54:19.755182Z"
    }
   },
   "outputs": [],
   "source": [
    "df['labelE'].unique()"
   ]
  },
  {
   "cell_type": "code",
   "execution_count": 59,
   "metadata": {
    "execution": {
     "iopub.execute_input": "2021-10-29T15:54:19.765043Z",
     "iopub.status.busy": "2021-10-29T15:54:19.764393Z",
     "iopub.status.idle": "2021-10-29T15:54:19.772936Z",
     "shell.execute_reply": "2021-10-29T15:54:19.772109Z",
     "shell.execute_reply.started": "2021-10-29T15:54:19.764978Z"
    }
   },
   "outputs": [],
   "source": [
    "# splitting feature columns and target column\n",
    "features = df[['N', 'P','K','temperature', 'humidity', 'ph', 'rainfall']]\n",
    "target = df['labelE']\n",
    "labels = df['labelE']"
   ]
  },
  {
   "cell_type": "code",
   "execution_count": 60,
   "metadata": {
    "execution": {
     "iopub.execute_input": "2021-10-29T15:54:19.775051Z",
     "iopub.status.busy": "2021-10-29T15:54:19.774543Z",
     "iopub.status.idle": "2021-10-29T15:54:19.781104Z",
     "shell.execute_reply": "2021-10-29T15:54:19.779252Z",
     "shell.execute_reply.started": "2021-10-29T15:54:19.774992Z"
    }
   },
   "outputs": [],
   "source": [
    "# Initializing empty lists to append all model's name and corresponding name\n",
    "acc = []\n",
    "model = []"
   ]
  },
  {
   "cell_type": "markdown",
   "metadata": {},
   "source": [
    "# PyTorch Model Setup and Training\n"
   ]
  },
  {
   "cell_type": "code",
   "execution_count": 61,
   "metadata": {
    "execution": {
     "iopub.execute_input": "2021-10-29T15:54:19.783204Z",
     "iopub.status.busy": "2021-10-29T15:54:19.782631Z",
     "iopub.status.idle": "2021-10-29T15:54:19.802297Z",
     "shell.execute_reply": "2021-10-29T15:54:19.801333Z",
     "shell.execute_reply.started": "2021-10-29T15:54:19.783168Z"
    }
   },
   "outputs": [],
   "source": [
    "# function to get the count of classes\n",
    "def get_class_distribution(obj):\n",
    "    count_dict = {\n",
    "        'rice':0, 'maize':0, 'chickpea':0, 'kidneybeans':0, 'pigeonpeas':0,\n",
    "       'mothbeans':0, 'mungbean':0, 'blackgram':0, 'lentil':0, 'pomegranate':0,\n",
    "       'banana':0, 'mango':0, 'grapes':0, 'watermelon':0, 'muskmelon':0, 'apple':0,\n",
    "       'orange':0, 'papaya':0, 'coconut':0, 'cotton':0, 'jute':0, 'coffee':0\n",
    "    }\n",
    "    \n",
    "    for i in obj:\n",
    "        if i == 0: \n",
    "            count_dict['apple'] += 1\n",
    "        elif i == 1: \n",
    "            count_dict['banana'] += 1\n",
    "        elif i == 2: \n",
    "            count_dict['blackgram'] += 1\n",
    "        elif i == 3: \n",
    "            count_dict['chickpea'] += 1\n",
    "        elif i == 4: \n",
    "            count_dict['coconut'] += 1  \n",
    "        elif i == 5: \n",
    "            count_dict['coffee'] += 1\n",
    "        elif i == 6: \n",
    "            count_dict['cotton'] += 1  \n",
    "        elif i == 7: \n",
    "            count_dict['grapes'] += 1  \n",
    "        elif i == 8: \n",
    "            count_dict['jute'] += 1  \n",
    "        elif i == 9: \n",
    "            count_dict['kidneybeans'] += 1  \n",
    "        elif i == 10: \n",
    "            count_dict['lentil'] += 1  \n",
    "        elif i == 11: \n",
    "            count_dict['maize'] += 1  \n",
    "        elif i == 12: \n",
    "            count_dict['mango'] += 1  \n",
    "        elif i == 13: \n",
    "            count_dict['mothbeans'] += 1  \n",
    "        elif i == 14: \n",
    "            count_dict['mungbean'] += 1  \n",
    "        elif i == 15: \n",
    "            count_dict['muskmelon'] += 1  \n",
    "        elif i == 16: \n",
    "            count_dict['orange'] += 1  \n",
    "        elif i == 17: \n",
    "            count_dict['papaya'] += 1  \n",
    "        elif i == 18: \n",
    "            count_dict['pigeonpeas'] += 1  \n",
    "        elif i == 19: \n",
    "            count_dict['pomegranate'] += 1  \n",
    "        elif i == 20: \n",
    "            count_dict['rice'] += 1\n",
    "        elif i == 21: \n",
    "            count_dict['watermelon'] += 1\n",
    "        else:\n",
    "            print(i)\n",
    "            print(\"\\nCheck classes.\")\n",
    "            \n",
    "    return count_dict"
   ]
  },
  {
   "cell_type": "code",
   "execution_count": 62,
   "metadata": {
    "execution": {
     "iopub.execute_input": "2021-10-29T15:54:19.804463Z",
     "iopub.status.busy": "2021-10-29T15:54:19.803765Z",
     "iopub.status.idle": "2021-10-29T15:54:19.815541Z",
     "shell.execute_reply": "2021-10-29T15:54:19.814734Z",
     "shell.execute_reply.started": "2021-10-29T15:54:19.804421Z"
    }
   },
   "outputs": [],
   "source": [
    "# !Importing torch libraries\n",
    "from tqdm.notebook import tqdm\n",
    "import torch\n",
    "import torch.nn as nn\n",
    "import torch.optim as optim\n",
    "from torch.utils.data import Dataset, DataLoader, WeightedRandomSampler"
   ]
  },
  {
   "cell_type": "code",
   "execution_count": 63,
   "metadata": {
    "execution": {
     "iopub.execute_input": "2021-10-29T15:54:19.817944Z",
     "iopub.status.busy": "2021-10-29T15:54:19.817473Z",
     "iopub.status.idle": "2021-10-29T15:54:19.837728Z",
     "shell.execute_reply": "2021-10-29T15:54:19.837097Z",
     "shell.execute_reply.started": "2021-10-29T15:54:19.817907Z"
    }
   },
   "outputs": [],
   "source": [
    "# Splitting into train and test data\n",
    "\n",
    "from sklearn.model_selection import train_test_split\n",
    "# Split into train+val and test\n",
    "X_trainval, X_test, y_trainval, y_test = train_test_split(features, target, test_size=0.2, stratify=target, random_state=69)\n",
    "\n",
    "# Split train into train-val\n",
    "X_train, X_val, y_train, y_val = train_test_split(X_trainval, y_trainval, test_size=0.1, stratify=y_trainval, random_state=21)\n",
    "\n",
    "X_train= np.array(X_train)\n",
    "y_train= np.array(y_train)\n",
    "X_val=np.array(X_val)\n",
    "y_val=np.array(y_val)\n",
    "X_test= np.array(X_test)\n",
    "y_test =  np.array(y_test)"
   ]
  },
  {
   "cell_type": "code",
   "execution_count": 64,
   "metadata": {
    "execution": {
     "iopub.execute_input": "2021-10-29T15:54:19.839601Z",
     "iopub.status.busy": "2021-10-29T15:54:19.839255Z",
     "iopub.status.idle": "2021-10-29T15:54:19.844947Z",
     "shell.execute_reply": "2021-10-29T15:54:19.844089Z",
     "shell.execute_reply.started": "2021-10-29T15:54:19.839565Z"
    }
   },
   "outputs": [],
   "source": [
    "print(X_train.dtype)"
   ]
  },
  {
   "cell_type": "code",
   "execution_count": 65,
   "metadata": {
    "execution": {
     "iopub.execute_input": "2021-10-29T15:54:19.847134Z",
     "iopub.status.busy": "2021-10-29T15:54:19.846424Z",
     "iopub.status.idle": "2021-10-29T15:54:19.855221Z",
     "shell.execute_reply": "2021-10-29T15:54:19.853877Z",
     "shell.execute_reply.started": "2021-10-29T15:54:19.847095Z"
    }
   },
   "outputs": [],
   "source": [
    "print(y_train)"
   ]
  },
  {
   "cell_type": "code",
   "execution_count": 66,
   "metadata": {
    "execution": {
     "iopub.execute_input": "2021-10-29T15:54:19.856957Z",
     "iopub.status.busy": "2021-10-29T15:54:19.856553Z",
     "iopub.status.idle": "2021-10-29T15:54:19.862270Z",
     "shell.execute_reply": "2021-10-29T15:54:19.861259Z",
     "shell.execute_reply.started": "2021-10-29T15:54:19.856919Z"
    }
   },
   "outputs": [],
   "source": [
    "print(y_train.dtype)"
   ]
  },
  {
   "cell_type": "code",
   "execution_count": 67,
   "metadata": {
    "execution": {
     "iopub.execute_input": "2021-10-29T15:54:19.864367Z",
     "iopub.status.busy": "2021-10-29T15:54:19.863960Z",
     "iopub.status.idle": "2021-10-29T15:54:19.876470Z",
     "shell.execute_reply": "2021-10-29T15:54:19.875670Z",
     "shell.execute_reply.started": "2021-10-29T15:54:19.864331Z"
    }
   },
   "outputs": [],
   "source": [
    "# passing the test, train and sample data to the DataLoader\n",
    "class ClassifierDataset(Dataset):\n",
    "    \n",
    "    def __init__(self, X_data, y_data):\n",
    "        self.X_data = X_data\n",
    "        self.y_data = y_data\n",
    "        \n",
    "    def __getitem__(self, index):\n",
    "        return self.X_data[index], self.y_data[index]\n",
    "        \n",
    "    def __len__ (self):\n",
    "        return len(self.X_data)\n",
    "\n",
    "\n",
    "train_dataset = ClassifierDataset(torch.from_numpy(X_train).float(), torch.from_numpy(y_train).long())\n",
    "val_dataset = ClassifierDataset(torch.from_numpy(X_val).float(), torch.from_numpy(y_val).long())\n",
    "test_dataset = ClassifierDataset(torch.from_numpy(X_test).float(), torch.from_numpy(y_test).long())"
   ]
  },
  {
   "cell_type": "code",
   "execution_count": 68,
   "metadata": {
    "execution": {
     "iopub.execute_input": "2021-10-29T15:54:19.877756Z",
     "iopub.status.busy": "2021-10-29T15:54:19.877516Z",
     "iopub.status.idle": "2021-10-29T15:54:19.900672Z",
     "shell.execute_reply": "2021-10-29T15:54:19.899828Z",
     "shell.execute_reply.started": "2021-10-29T15:54:19.877733Z"
    }
   },
   "outputs": [],
   "source": [
    "target_list = []  # List of outputs\n",
    "for _, t in train_dataset:\n",
    "    target_list.append(t)\n",
    "    \n",
    "target_list = torch.tensor(target_list) # convert to tensor\n",
    "target_list = target_list[torch.randperm(len(target_list))]"
   ]
  },
  {
   "cell_type": "code",
   "execution_count": 69,
   "metadata": {
    "execution": {
     "iopub.execute_input": "2021-10-29T15:54:19.902809Z",
     "iopub.status.busy": "2021-10-29T15:54:19.902264Z",
     "iopub.status.idle": "2021-10-29T15:54:19.917903Z",
     "shell.execute_reply": "2021-10-29T15:54:19.917224Z",
     "shell.execute_reply.started": "2021-10-29T15:54:19.902772Z"
    }
   },
   "outputs": [],
   "source": [
    "# getting the class count and class wights by reciprocal\n",
    "class_count = [i for i in get_class_distribution(y_train).values()]\n",
    "class_weights = 1./torch.tensor(class_count, dtype=torch.float) \n",
    "print(class_weights)\n"
   ]
  },
  {
   "cell_type": "code",
   "execution_count": 70,
   "metadata": {
    "execution": {
     "iopub.execute_input": "2021-10-29T15:54:19.920965Z",
     "iopub.status.busy": "2021-10-29T15:54:19.920721Z",
     "iopub.status.idle": "2021-10-29T15:54:19.926375Z",
     "shell.execute_reply": "2021-10-29T15:54:19.925544Z",
     "shell.execute_reply.started": "2021-10-29T15:54:19.920941Z"
    }
   },
   "outputs": [],
   "source": [
    "class_weights_all = class_weights[target_list]\n"
   ]
  },
  {
   "cell_type": "code",
   "execution_count": 71,
   "metadata": {
    "execution": {
     "iopub.execute_input": "2021-10-29T15:54:19.929470Z",
     "iopub.status.busy": "2021-10-29T15:54:19.928495Z",
     "iopub.status.idle": "2021-10-29T15:54:19.934128Z",
     "shell.execute_reply": "2021-10-29T15:54:19.933223Z",
     "shell.execute_reply.started": "2021-10-29T15:54:19.929431Z"
    }
   },
   "outputs": [],
   "source": [
    "# oversampling mini batch with class of less values\n",
    "weighted_sampler = WeightedRandomSampler(\n",
    "    weights=class_weights_all,\n",
    "    num_samples=len(class_weights_all),\n",
    "    replacement=True\n",
    ")"
   ]
  },
  {
   "cell_type": "code",
   "execution_count": 72,
   "metadata": {
    "execution": {
     "iopub.execute_input": "2021-10-29T15:54:19.935825Z",
     "iopub.status.busy": "2021-10-29T15:54:19.935474Z",
     "iopub.status.idle": "2021-10-29T15:54:19.943897Z",
     "shell.execute_reply": "2021-10-29T15:54:19.943048Z",
     "shell.execute_reply.started": "2021-10-29T15:54:19.935789Z"
    }
   },
   "outputs": [],
   "source": [
    "# defining number of epochs and batch size model params\n",
    "EPOCHS = 300\n",
    "BATCH_SIZE = 16\n",
    "LEARNING_RATE = 0.0007\n",
    "NUM_FEATURES = len(features.columns)\n",
    "NUM_CLASSES = 22"
   ]
  },
  {
   "cell_type": "code",
   "execution_count": 73,
   "metadata": {
    "execution": {
     "iopub.execute_input": "2021-10-29T15:54:19.945676Z",
     "iopub.status.busy": "2021-10-29T15:54:19.945321Z",
     "iopub.status.idle": "2021-10-29T15:54:19.952622Z",
     "shell.execute_reply": "2021-10-29T15:54:19.951595Z",
     "shell.execute_reply.started": "2021-10-29T15:54:19.945640Z"
    }
   },
   "outputs": [],
   "source": [
    "# loading datasets for torch compatibility\n",
    "train_loader = DataLoader(dataset=train_dataset,\n",
    "                          batch_size=BATCH_SIZE,\n",
    "                          sampler=weighted_sampler\n",
    ")\n",
    "val_loader = DataLoader(dataset=val_dataset, batch_size=1)\n",
    "\n",
    "test_loader = DataLoader(dataset=test_dataset, batch_size=1)"
   ]
  },
  {
   "cell_type": "code",
   "execution_count": 74,
   "metadata": {
    "execution": {
     "iopub.execute_input": "2021-10-29T15:54:19.954470Z",
     "iopub.status.busy": "2021-10-29T15:54:19.953966Z",
     "iopub.status.idle": "2021-10-29T15:54:19.968523Z",
     "shell.execute_reply": "2021-10-29T15:54:19.967712Z",
     "shell.execute_reply.started": "2021-10-29T15:54:19.954435Z"
    }
   },
   "outputs": [],
   "source": [
    "# Defining classifier torch class\n",
    "class CropClassification(nn.Module):\n",
    "    def __init__(self, num_feature, num_class):\n",
    "        super(CropClassification, self).__init__()\n",
    "        \n",
    "        self.layer_1 = nn.Linear(num_feature, 512)\n",
    "        self.layer_2 = nn.Linear(512, 128)\n",
    "        self.layer_3 = nn.Linear(128, 64)\n",
    "        self.layer_out = nn.Linear(64, num_class) \n",
    "        \n",
    "        self.relu = nn.ReLU()\n",
    "        self.dropout = nn.Dropout(p=0.2)\n",
    "        self.batchnorm1 = nn.BatchNorm1d(512)\n",
    "        self.batchnorm2 = nn.BatchNorm1d(128)\n",
    "        self.batchnorm3 = nn.BatchNorm1d(64)\n",
    "        \n",
    "    def forward(self, x):\n",
    "        x = self.layer_1(x)\n",
    "        x = self.batchnorm1(x)\n",
    "        x = self.relu(x)\n",
    "        \n",
    "        x = self.layer_2(x)\n",
    "        x = self.batchnorm2(x)\n",
    "        x = self.relu(x)\n",
    "        x = self.dropout(x)\n",
    "        \n",
    "        x = self.layer_3(x)\n",
    "        x = self.batchnorm3(x)\n",
    "        x = self.relu(x)\n",
    "        x = self.dropout(x)\n",
    "        \n",
    "        x = self.layer_out(x)\n",
    "        \n",
    "        return x"
   ]
  },
  {
   "cell_type": "code",
   "execution_count": 75,
   "metadata": {
    "execution": {
     "iopub.execute_input": "2021-10-29T15:54:19.973268Z",
     "iopub.status.busy": "2021-10-29T15:54:19.972999Z",
     "iopub.status.idle": "2021-10-29T15:54:19.978298Z",
     "shell.execute_reply": "2021-10-29T15:54:19.977194Z",
     "shell.execute_reply.started": "2021-10-29T15:54:19.973244Z"
    }
   },
   "outputs": [],
   "source": [
    "# Setting the device to train the model on\n",
    "device = torch.device(\"cuda:0\" if torch.cuda.is_available() else \"cpu\")\n",
    "print(device)"
   ]
  },
  {
   "cell_type": "code",
   "execution_count": 76,
   "metadata": {
    "execution": {
     "iopub.execute_input": "2021-10-29T15:54:19.980481Z",
     "iopub.status.busy": "2021-10-29T15:54:19.979891Z",
     "iopub.status.idle": "2021-10-29T15:54:19.993180Z",
     "shell.execute_reply": "2021-10-29T15:54:19.992046Z",
     "shell.execute_reply.started": "2021-10-29T15:54:19.980424Z"
    }
   },
   "outputs": [],
   "source": [
    "# creating model class instance and printing\n",
    "model = CropClassification(num_feature = NUM_FEATURES, num_class=NUM_CLASSES)\n",
    "model.to(device)\n",
    "\n",
    "criterion = nn.CrossEntropyLoss(weight=class_weights.to(device))\n",
    "optimizer = optim.Adam(model.parameters(), lr=LEARNING_RATE)\n",
    "print(model)"
   ]
  },
  {
   "cell_type": "code",
   "execution_count": 77,
   "metadata": {
    "execution": {
     "iopub.execute_input": "2021-10-29T15:54:19.995131Z",
     "iopub.status.busy": "2021-10-29T15:54:19.994752Z",
     "iopub.status.idle": "2021-10-29T15:54:20.001788Z",
     "shell.execute_reply": "2021-10-29T15:54:20.000670Z",
     "shell.execute_reply.started": "2021-10-29T15:54:19.995094Z"
    }
   },
   "outputs": [],
   "source": [
    "# defining the model accuracy function during train\n",
    "def multi_acc(y_pred, y_test):\n",
    "    y_pred_softmax = torch.log_softmax(y_pred, dim = 1)\n",
    "    _, y_pred_tags = torch.max(y_pred_softmax, dim = 1)    \n",
    "    \n",
    "    correct_pred = (y_pred_tags == y_test).float()\n",
    "    acc = correct_pred.sum() / len(correct_pred)\n",
    "    \n",
    "    acc = torch.round(acc * 100)\n",
    "    \n",
    "    return acc"
   ]
  },
  {
   "cell_type": "code",
   "execution_count": 78,
   "metadata": {
    "execution": {
     "iopub.execute_input": "2021-10-29T15:54:20.003840Z",
     "iopub.status.busy": "2021-10-29T15:54:20.003199Z",
     "iopub.status.idle": "2021-10-29T15:54:20.010104Z",
     "shell.execute_reply": "2021-10-29T15:54:20.009195Z",
     "shell.execute_reply.started": "2021-10-29T15:54:20.003801Z"
    }
   },
   "outputs": [],
   "source": [
    "# Declaring the accuracy and loss objects holding list of values for every epoch\n",
    "accuracy_stats = {\n",
    "    'train': [],\n",
    "    \"val\": []\n",
    "}\n",
    "loss_stats = {\n",
    "    'train': [],\n",
    "    \"val\": []\n",
    "}"
   ]
  },
  {
   "cell_type": "code",
   "execution_count": 79,
   "metadata": {
    "execution": {
     "iopub.execute_input": "2021-10-29T15:54:20.012168Z",
     "iopub.status.busy": "2021-10-29T15:54:20.011505Z",
     "iopub.status.idle": "2021-10-29T15:57:06.601949Z",
     "shell.execute_reply": "2021-10-29T15:57:06.601088Z",
     "shell.execute_reply.started": "2021-10-29T15:54:20.012129Z"
    }
   },
   "outputs": [],
   "source": [
    "print(\"Begin training.\")\n",
    "for e in tqdm(range(1, EPOCHS+1)):\n",
    "    \n",
    "    # TRAINING\n",
    "    train_epoch_loss = 0\n",
    "    train_epoch_acc = 0\n",
    "    model.train()\n",
    "    for X_train_batch, y_train_batch in train_loader:\n",
    "        X_train_batch, y_train_batch = X_train_batch.to(device), y_train_batch.to(device)\n",
    "        optimizer.zero_grad()\n",
    "        \n",
    "        y_train_pred = model(X_train_batch)\n",
    "        \n",
    "        train_loss = criterion(y_train_pred, y_train_batch)\n",
    "        train_acc = multi_acc(y_train_pred, y_train_batch)\n",
    "        \n",
    "        train_loss.backward()\n",
    "        optimizer.step()\n",
    "        \n",
    "        train_epoch_loss += train_loss.item()\n",
    "        train_epoch_acc += train_acc.item()\n",
    "        \n",
    "        \n",
    "    # VALIDATION    \n",
    "    with torch.no_grad():\n",
    "        \n",
    "        val_epoch_loss = 0\n",
    "        val_epoch_acc = 0\n",
    "        \n",
    "        model.eval()\n",
    "        for X_val_batch, y_val_batch in val_loader:\n",
    "            X_val_batch, y_val_batch = X_val_batch.to(device), y_val_batch.to(device)\n",
    "            \n",
    "            y_val_pred = model(X_val_batch)\n",
    "                        \n",
    "            val_loss = criterion(y_val_pred, y_val_batch)\n",
    "            val_acc = multi_acc(y_val_pred, y_val_batch)\n",
    "            \n",
    "            val_epoch_loss += val_loss.item()\n",
    "            val_epoch_acc += val_acc.item()\n",
    "    loss_stats['train'].append(train_epoch_loss/len(train_loader))\n",
    "    loss_stats['val'].append(val_epoch_loss/len(val_loader))\n",
    "    accuracy_stats['train'].append(train_epoch_acc/len(train_loader))\n",
    "    accuracy_stats['val'].append(val_epoch_acc/len(val_loader))\n",
    "                              \n",
    "    \n",
    "    print(f'Epoch {e+0:03}: | Train Loss: {train_epoch_loss/len(train_loader):.5f} | Val Loss: {val_epoch_loss/len(val_loader):.5f} | Train Acc: {train_epoch_acc/len(train_loader):.3f}| Val Acc: {val_epoch_acc/len(val_loader):.3f}')\n"
   ]
  },
  {
   "cell_type": "code",
   "execution_count": 80,
   "metadata": {
    "execution": {
     "iopub.execute_input": "2021-10-29T15:57:06.603929Z",
     "iopub.status.busy": "2021-10-29T15:57:06.603363Z",
     "iopub.status.idle": "2021-10-29T15:57:06.806836Z",
     "shell.execute_reply": "2021-10-29T15:57:06.805955Z",
     "shell.execute_reply.started": "2021-10-29T15:57:06.603887Z"
    }
   },
   "outputs": [],
   "source": [
    "# Visaulizing the Loss curve\n",
    "fig = plt.figure(figsize=(20,10))\n",
    "plt.title(\"Loss Curve-Train vs Validation\")\n",
    "plt.plot( loss_stats['train'], label='train')\n",
    "plt.plot( loss_stats['val'], label='validation')\n",
    "plt.xlabel('num_epochs', fontsize=12)\n",
    "plt.ylabel('loss', fontsize=12)\n",
    "plt.legend(loc='best')"
   ]
  },
  {
   "cell_type": "code",
   "execution_count": 81,
   "metadata": {
    "_kg_hide-output": true,
    "execution": {
     "iopub.execute_input": "2021-10-29T15:57:06.808981Z",
     "iopub.status.busy": "2021-10-29T15:57:06.808348Z",
     "iopub.status.idle": "2021-10-29T15:57:07.084777Z",
     "shell.execute_reply": "2021-10-29T15:57:07.083987Z",
     "shell.execute_reply.started": "2021-10-29T15:57:06.808926Z"
    }
   },
   "outputs": [],
   "source": [
    "y_pred_list = []\n",
    "with torch.no_grad():\n",
    "    model.eval()\n",
    "    for X_batch, _ in test_loader:\n",
    "        X_batch = X_batch.to(device)\n",
    "        y_test_pred = model(X_batch)\n",
    "#         print(torch.topk(y_test_pred,6,dim=1))\n",
    "#         y_test_pred\n",
    "        _, y_pred_tags = torch.max(y_test_pred, dim = 1)\n",
    "        y_pred_list.append(y_pred_tags.cpu().numpy())\n",
    "y_pred_list = [a.squeeze().tolist() for a in y_pred_list]"
   ]
  },
  {
   "cell_type": "code",
   "execution_count": 82,
   "metadata": {
    "execution": {
     "iopub.execute_input": "2021-10-29T15:57:07.086681Z",
     "iopub.status.busy": "2021-10-29T15:57:07.086304Z",
     "iopub.status.idle": "2021-10-29T15:57:07.098733Z",
     "shell.execute_reply": "2021-10-29T15:57:07.097926Z",
     "shell.execute_reply.started": "2021-10-29T15:57:07.086642Z"
    }
   },
   "outputs": [],
   "source": [
    "print(classification_report(y_test, y_pred_list))\n"
   ]
  },
  {
   "cell_type": "markdown",
   "metadata": {},
   "source": [
    "## Saving and Loading the torch model"
   ]
  },
  {
   "cell_type": "code",
   "execution_count": 83,
   "metadata": {
    "execution": {
     "iopub.execute_input": "2021-10-29T15:57:07.100654Z",
     "iopub.status.busy": "2021-10-29T15:57:07.100219Z",
     "iopub.status.idle": "2021-10-29T15:57:07.123556Z",
     "shell.execute_reply": "2021-10-29T15:57:07.122936Z",
     "shell.execute_reply.started": "2021-10-29T15:57:07.100617Z"
    }
   },
   "outputs": [],
   "source": [
    "PATH_OP = 'cropRecommender.pth'\n",
    "\n",
    "print(\"!Begin Saving\")\n",
    "\n",
    "\n",
    "torch.save(model.state_dict(), PATH_OP)\n",
    "\n",
    "print('!Model Saved')\n",
    "# Model class must be defined somewhere\n",
    "model2 = CropClassification(num_feature = NUM_FEATURES, num_class=NUM_CLASSES)\n",
    "device = torch.device(\"cuda:0\" if torch.cuda.is_available() else \"cpu\")\n",
    "model2.to(device)\n",
    "model2.load_state_dict(torch.load(PATH_OP))\n",
    "\n",
    "model2.eval()\n"
   ]
  },
  {
   "cell_type": "code",
   "execution_count": 84,
   "metadata": {
    "execution": {
     "iopub.execute_input": "2021-10-29T15:57:07.125269Z",
     "iopub.status.busy": "2021-10-29T15:57:07.124833Z",
     "iopub.status.idle": "2021-10-29T15:57:07.386735Z",
     "shell.execute_reply": "2021-10-29T15:57:07.386090Z",
     "shell.execute_reply.started": "2021-10-29T15:57:07.125230Z"
    }
   },
   "outputs": [],
   "source": [
    "y_pred_list = []\n",
    "with torch.no_grad():\n",
    "    model2.eval()\n",
    "    for X_batch, _ in test_loader:\n",
    "        X_batch = X_batch.to(device)\n",
    "        y_test_pred = model2(X_batch)\n",
    "        _, y_pred_tags = torch.max(y_test_pred, dim = 1)\n",
    "        y_pred_list.append(y_pred_tags.cpu().numpy())\n",
    "y_pred_list = [a.squeeze().tolist() for a in y_pred_list]"
   ]
  },
  {
   "cell_type": "code",
   "execution_count": 85,
   "metadata": {
    "execution": {
     "iopub.execute_input": "2021-10-29T15:57:07.388581Z",
     "iopub.status.busy": "2021-10-29T15:57:07.388195Z",
     "iopub.status.idle": "2021-10-29T15:57:07.399724Z",
     "shell.execute_reply": "2021-10-29T15:57:07.398924Z",
     "shell.execute_reply.started": "2021-10-29T15:57:07.388543Z"
    }
   },
   "outputs": [],
   "source": [
    "print(classification_report(y_test, y_pred_list))\n"
   ]
  }
 ],
 "metadata": {
  "kernelspec": {
   "display_name": "Python 3 (ipykernel)",
   "language": "python",
   "name": "python3"
  },
  "language_info": {
   "codemirror_mode": {
    "name": "ipython",
    "version": 3
   },
   "file_extension": ".py",
   "mimetype": "text/x-python",
   "name": "python",
   "nbconvert_exporter": "python",
   "pygments_lexer": "ipython3",
   "version": "3.9.7"
  }
 },
 "nbformat": 4,
 "nbformat_minor": 4
}
