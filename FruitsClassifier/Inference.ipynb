{
 "cells": [
  {
   "cell_type": "code",
   "execution_count": 1,
   "id": "f5b4a4b7",
   "metadata": {},
   "outputs": [],
   "source": [
    "import sys\n",
    "sys.path.append(r'../HelperFunctions')\n",
    "import DataHelper as dh\n",
    "import InferenceHelper as ih"
   ]
  },
  {
   "cell_type": "code",
   "execution_count": 2,
   "id": "cb525376",
   "metadata": {},
   "outputs": [
    {
     "name": "stdout",
     "output_type": "stream",
     "text": [
      "Please enter the root directory of the file path -> C:\\Users\\user\\Desktop\\ML\\PyTorch\\Hackathon\\Fruit-Recommender\\Dataset\\data\\fruits_data\\test\\Image_1.jpg\n"
     ]
    },
    {
     "data": {
      "text/plain": [
       "{'path': 'C:\\\\Users\\\\user\\\\Desktop\\\\ML\\\\PyTorch\\\\Hackathon\\\\Fruit-Recommender\\\\Dataset\\\\data\\\\fruits_data\\\\test\\\\Image_1.jpg',\n",
       " 'type': 'file'}"
      ]
     },
     "execution_count": 2,
     "metadata": {},
     "output_type": "execute_result"
    }
   ],
   "source": [
    "path_info = dh.getFileDirectory(fetchType='file')\n",
    "path_info"
   ]
  },
  {
   "cell_type": "code",
   "execution_count": 3,
   "id": "ab6bc658",
   "metadata": {},
   "outputs": [
    {
     "data": {
      "image/png": "[encoded data removed]",
      "text/plain": [
       "<PIL.JpegImagePlugin.JpegImageFile image mode=RGB size=100x100 at 0x172D5143820>"
      ]
     },
     "execution_count": 3,
     "metadata": {},
     "output_type": "execute_result"
    }
   ],
   "source": [
    "img = ih.getTestImg(path=path_info['path'])\n",
    "img"
   ]
  },
  {
   "cell_type": "code",
   "execution_count": 4,
   "id": "683af248",
   "metadata": {},
   "outputs": [],
   "source": [
    "import AugHelper as ah\n",
    "imgTransform = ah.getImageTransform(224)"
   ]
  },
  {
   "cell_type": "code",
   "execution_count": 5,
   "id": "146dc856",
   "metadata": {},
   "outputs": [
    {
     "name": "stdout",
     "output_type": "stream",
     "text": [
      "Please enter the root directory of the file path -> C:\\Users\\user\\Desktop\\ML\\PyTorch\\Hackathon\\Fruit-Recommender\\Dataset\\data\\fruits_data\\Training_set.csv\n"
     ]
    },
    {
     "data": {
      "text/plain": [
       "{'path': 'C:\\\\Users\\\\user\\\\Desktop\\\\ML\\\\PyTorch\\\\Hackathon\\\\Fruit-Recommender\\\\Dataset\\\\data\\\\fruits_data\\\\Training_set.csv',\n",
       " 'type': 'file'}"
      ]
     },
     "execution_count": 5,
     "metadata": {},
     "output_type": "execute_result"
    }
   ],
   "source": [
    "df_info = dh.getFileDirectory('file')\n",
    "df_info"
   ]
  },
  {
   "cell_type": "code",
   "execution_count": 8,
   "id": "0083ea2f",
   "metadata": {},
   "outputs": [],
   "source": [
    "def getDictlabel(path):\n",
    "    df = dh.pd.read_csv(path)\n",
    "    df['label'] = dh.pd.Categorical(df['label'])\n",
    "    dictlabel = df['label'].cat.categories\n",
    "    return dictlabel"
   ]
  },
  {
   "cell_type": "code",
   "execution_count": 9,
   "id": "474fcfe2",
   "metadata": {},
   "outputs": [],
   "source": [
    "dictlabel = getDictlabel(df_info['path'])"
   ]
  },
  {
   "cell_type": "code",
   "execution_count": 11,
   "id": "c5cb5470",
   "metadata": {},
   "outputs": [],
   "source": [
    "weights = 'FruitClassifier.pth'"
   ]
  },
  {
   "cell_type": "code",
   "execution_count": 10,
   "id": "a9e575e5",
   "metadata": {},
   "outputs": [],
   "source": [
    "from FruitModel import fruitRegModel\n",
    "model = fruitRegModel()"
   ]
  },
  {
   "cell_type": "code",
   "execution_count": 12,
   "id": "d5cdafcb",
   "metadata": {},
   "outputs": [
    {
     "data": {
      "text/plain": [
       "'Banana Lady Finger'"
      ]
     },
     "execution_count": 12,
     "metadata": {},
     "output_type": "execute_result"
    }
   ],
   "source": [
    "ih.inference(img_path=path_info['path'],model=model,weight_path=weights,dictlabel=dictlabel,transform=imgTransform,softmax=True)"
   ]
  }
 ],
 "metadata": {
  "kernelspec": {
   "display_name": "Python 3 (ipykernel)",
   "language": "python",
   "name": "python3"
  },
  "language_info": {
   "codemirror_mode": {
    "name": "ipython",
    "version": 3
   },
   "file_extension": ".py",
   "mimetype": "text/x-python",
   "name": "python",
   "nbconvert_exporter": "python",
   "pygments_lexer": "ipython3",
   "version": "3.9.7"
  }
 },
 "nbformat": 4,
 "nbformat_minor": 5
}
