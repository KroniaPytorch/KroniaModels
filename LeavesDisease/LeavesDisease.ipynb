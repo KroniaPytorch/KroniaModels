{
 "cells": [
  {
   "cell_type": "code",
   "execution_count": null,
   "id": "0245a22a",
   "metadata": {},
   "outputs": [],
   "source": [
    "import sys"
   ]
  },
  {
   "cell_type": "code",
   "execution_count": null,
   "id": "c1de4d26",
   "metadata": {},
   "outputs": [],
   "source": [
    "sys.path.append(r'../HelperFunctions')"
   ]
  },
  {
   "cell_type": "code",
   "execution_count": null,
   "id": "b350c254",
   "metadata": {},
   "outputs": [],
   "source": [
    "import DataHelper as dh\n",
    "import AugHelper as ah\n",
    "import ModelConfigHelper as mch"
   ]
  },
  {
   "cell_type": "code",
   "execution_count": null,
   "id": "1acc9e4d",
   "metadata": {},
   "outputs": [],
   "source": [
    "train_path = dh.getFileDirectory()"
   ]
  },
  {
   "cell_type": "code",
   "execution_count": null,
   "id": "e8cfe561",
   "metadata": {},
   "outputs": [],
   "source": [
    "val_path = dh.getFileDirectory()"
   ]
  },
  {
   "cell_type": "code",
   "execution_count": null,
   "id": "74a1afca",
   "metadata": {},
   "outputs": [],
   "source": [
    "dh.showFileCount(train_path)"
   ]
  },
  {
   "cell_type": "code",
   "execution_count": null,
   "id": "feddbd90",
   "metadata": {},
   "outputs": [],
   "source": [
    "dh.showFileCount(val_path)"
   ]
  },
  {
   "cell_type": "code",
   "execution_count": null,
   "id": "e78dc697",
   "metadata": {},
   "outputs": [],
   "source": [
    "train_df = dh.getDataFrame(train_path)"
   ]
  },
  {
   "cell_type": "code",
   "execution_count": null,
   "id": "7fa1eb33",
   "metadata": {},
   "outputs": [],
   "source": [
    "val_df = dh.getDataFrame(val_path)"
   ]
  },
  {
   "cell_type": "code",
   "execution_count": null,
   "id": "a5b9f60b",
   "metadata": {},
   "outputs": [],
   "source": [
    "train_df"
   ]
  },
  {
   "cell_type": "code",
   "execution_count": null,
   "id": "fdc1a6ef",
   "metadata": {},
   "outputs": [],
   "source": [
    "val_df"
   ]
  },
  {
   "cell_type": "code",
   "execution_count": null,
   "id": "70bc64ff",
   "metadata": {},
   "outputs": [],
   "source": [
    "dictlabel = dh.getLabelDicts(train_df)"
   ]
  },
  {
   "cell_type": "code",
   "execution_count": null,
   "id": "9806cc0a",
   "metadata": {},
   "outputs": [],
   "source": [
    "dictlabel"
   ]
  },
  {
   "cell_type": "code",
   "execution_count": null,
   "id": "3ad7ef0f",
   "metadata": {},
   "outputs": [],
   "source": [
    "train_df = dh.dfPreProcess(train_df)\n",
    "val_df = dh.dfPreProcess(val_df)"
   ]
  },
  {
   "cell_type": "code",
   "execution_count": null,
   "id": "4b58efad",
   "metadata": {},
   "outputs": [],
   "source": [
    "train_df"
   ]
  },
  {
   "cell_type": "code",
   "execution_count": null,
   "id": "6aa8812c",
   "metadata": {},
   "outputs": [],
   "source": [
    "val_df"
   ]
  },
  {
   "cell_type": "code",
   "execution_count": null,
   "id": "3596d23b",
   "metadata": {},
   "outputs": [],
   "source": [
    "imgTransform = ah.getImageTransform(256)"
   ]
  },
  {
   "cell_type": "code",
   "execution_count": null,
   "id": "69159765",
   "metadata": {},
   "outputs": [],
   "source": [
    "imgTransform"
   ]
  },
  {
   "cell_type": "code",
   "execution_count": null,
   "id": "e6253e64",
   "metadata": {},
   "outputs": [],
   "source": [
    "augList = ah.getAugmentation(augmentRequired=False,angle=90)"
   ]
  },
  {
   "cell_type": "code",
   "execution_count": null,
   "id": "7b0e1a44",
   "metadata": {},
   "outputs": [],
   "source": [
    "augList"
   ]
  },
  {
   "cell_type": "code",
   "execution_count": null,
   "id": "52133347",
   "metadata": {},
   "outputs": [],
   "source": [
    "train_df = ah.augmentDataFrame(df=train_df,augDict=augList)"
   ]
  },
  {
   "cell_type": "code",
   "execution_count": null,
   "id": "69c16750",
   "metadata": {},
   "outputs": [],
   "source": [
    "train_ds = ah.KroniaDataset(data=train_df,transforms=imgTransform)\n",
    "val_ds = ah.KroniaDataset(data=val_df,transforms=imgTransform)"
   ]
  },
  {
   "cell_type": "code",
   "execution_count": null,
   "id": "e0b13649",
   "metadata": {},
   "outputs": [],
   "source": [
    "from LeavesModel import MiniResNet"
   ]
  },
  {
   "cell_type": "code",
   "execution_count": null,
   "id": "e0a7b1a7",
   "metadata": {},
   "outputs": [],
   "source": [
    "model = MiniResNet(3,len(dictlabel))"
   ]
  },
  {
   "cell_type": "code",
   "execution_count": null,
   "id": "9f9421ba",
   "metadata": {},
   "outputs": [],
   "source": [
    "import torch.optim as optim\n",
    "from torch.utils.data import DataLoader"
   ]
  },
  {
   "cell_type": "code",
   "execution_count": null,
   "id": "1b442ffe",
   "metadata": {},
   "outputs": [],
   "source": [
    "train_dl = DataLoader(dataset=train_ds,batch_size=64,shuffle=True)\n",
    "val_dl = DataLoader(dataset=val_ds,batch_size=64,shuffle=True)"
   ]
  },
  {
   "cell_type": "code",
   "execution_count": null,
   "id": "1be335c2",
   "metadata": {},
   "outputs": [],
   "source": [
    "import torch\n",
    "torch.manual_seed(42)"
   ]
  },
  {
   "cell_type": "code",
   "execution_count": null,
   "id": "7b0824d2",
   "metadata": {},
   "outputs": [],
   "source": [
    "import torch.nn as nn\n",
    "criterion = nn.CrossEntropyLoss()\n",
    "optimizer = torch.optim.Adam(model.parameters(), lr=0.001)"
   ]
  },
  {
   "cell_type": "code",
   "execution_count": null,
   "id": "40938fcc",
   "metadata": {},
   "outputs": [],
   "source": [
    "train_loss,val_loss = mch.trainModel(model=model,train_dl=train_dl,val_dl=val_dl,criterion=criterion,optim=optimizer,train_samples=281180,batch_size=64,soft_max=True)"
   ]
  },
  {
   "cell_type": "code",
   "execution_count": null,
   "id": "cf4d426b",
   "metadata": {},
   "outputs": [],
   "source": [
    "mch.visualiziseTrainResults(train_losses=train_loss,test_losses=val_loss)"
   ]
  },
  {
   "cell_type": "code",
   "execution_count": null,
   "id": "3ce94b8c",
   "metadata": {},
   "outputs": [],
   "source": [
    "# mch.saveModel(model=model,filename=\"LeavesModelWeights\")"
   ]
  }
 ],
 "metadata": {
  "kernelspec": {
   "display_name": "Python 3 (ipykernel)",
   "language": "python",
   "name": "python3"
  },
  "language_info": {
   "codemirror_mode": {
    "name": "ipython",
    "version": 3
   },
   "file_extension": ".py",
   "mimetype": "text/x-python",
   "name": "python",
   "nbconvert_exporter": "python",
   "pygments_lexer": "ipython3",
   "version": "3.9.7"
  }
 },
 "nbformat": 4,
 "nbformat_minor": 5
}
