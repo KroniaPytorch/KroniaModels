{
 "cells": [
  {
   "cell_type": "code",
   "execution_count": 1,
   "id": "5358c2d3",
   "metadata": {},
   "outputs": [],
   "source": [
    "import sys"
   ]
  },
  {
   "cell_type": "code",
   "execution_count": 2,
   "id": "fa293b18",
   "metadata": {},
   "outputs": [],
   "source": [
    "sys.path.append(r'../HelperFunctions')"
   ]
  },
  {
   "cell_type": "code",
   "execution_count": 3,
   "id": "9fed637c",
   "metadata": {},
   "outputs": [],
   "source": [
    "import DataHelper as dh\n",
    "import InferenceHelper as ih"
   ]
  },
  {
   "cell_type": "code",
   "execution_count": null,
   "id": "e813d792",
   "metadata": {},
   "outputs": [],
   "source": [
    "path_info = dh.getFileDirectory(fetchType='file')"
   ]
  },
  {
   "cell_type": "code",
   "execution_count": null,
   "id": "0a3ceffd",
   "metadata": {},
   "outputs": [],
   "source": [
    "path_info"
   ]
  },
  {
   "cell_type": "code",
   "execution_count": null,
   "id": "7a0ea6f7",
   "metadata": {},
   "outputs": [],
   "source": [
    "img = ih.getTestImg(path=path_info['path'])"
   ]
  },
  {
   "cell_type": "code",
   "execution_count": null,
   "id": "5c48bad7",
   "metadata": {},
   "outputs": [],
   "source": [
    "img"
   ]
  },
  {
   "cell_type": "code",
   "execution_count": null,
   "id": "c3167640",
   "metadata": {},
   "outputs": [],
   "source": [
    "import AugHelper as ah"
   ]
  },
  {
   "cell_type": "code",
   "execution_count": null,
   "id": "9ef4889d",
   "metadata": {},
   "outputs": [],
   "source": [
    "imgTransform = ah.getImageTransform(256)"
   ]
  },
  {
   "cell_type": "code",
   "execution_count": null,
   "id": "81c6abc7",
   "metadata": {},
   "outputs": [],
   "source": [
    "dictlabel = ['Apple___Apple_scab',\n",
    " 'Apple___Black_rot',\n",
    " 'Apple___Cedar_apple_rust',\n",
    " 'Apple___healthy',\n",
    " 'Blueberry___healthy',\n",
    " 'Cherry_(including_sour)___Powdery_mildew',\n",
    " 'Cherry_(including_sour)___healthy',\n",
    " 'Corn_(maize)___Cercospora_leaf_spot Gray_leaf_spot',\n",
    " 'Corn_(maize)___Common_rust_',\n",
    " 'Corn_(maize)___Northern_Leaf_Blight',\n",
    " 'Corn_(maize)___healthy',\n",
    " 'Grape___Black_rot',\n",
    " 'Grape___Esca_(Black_Measles)',\n",
    " 'Grape___Leaf_blight_(Isariopsis_Leaf_Spot)',\n",
    " 'Grape___healthy',\n",
    " 'Orange___Haunglongbing_(Citrus_greening)',\n",
    " 'Peach___Bacterial_spot',\n",
    " 'Peach___healthy',\n",
    " 'Pepper,_bell___Bacterial_spot',\n",
    " 'Pepper,_bell___healthy',\n",
    " 'Potato___Early_blight',\n",
    " 'Potato___Late_blight',\n",
    " 'Potato___healthy',\n",
    " 'Raspberry___healthy',\n",
    " 'Soybean___healthy',\n",
    " 'Squash___Powdery_mildew',\n",
    " 'Strawberry___Leaf_scorch',\n",
    " 'Strawberry___healthy',\n",
    " 'Tomato___Bacterial_spot',\n",
    " 'Tomato___Early_blight',\n",
    " 'Tomato___Late_blight',\n",
    " 'Tomato___Leaf_Mold',\n",
    " 'Tomato___Septoria_leaf_spot',\n",
    " 'Tomato___Spider_mites Two-spotted_spider_mite',\n",
    " 'Tomato___Target_Spot',\n",
    " 'Tomato___Tomato_Yellow_Leaf_Curl_Virus',\n",
    " 'Tomato___Tomato_mosaic_virus',\n",
    " 'Tomato___healthy']"
   ]
  },
  {
   "cell_type": "code",
   "execution_count": null,
   "id": "f4218ced",
   "metadata": {},
   "outputs": [],
   "source": [
    "from LeavesModel import MiniResNet"
   ]
  },
  {
   "cell_type": "code",
   "execution_count": null,
   "id": "8c1dd569",
   "metadata": {},
   "outputs": [],
   "source": [
    "model = MiniResNet(3,len(dictlabel))"
   ]
  },
  {
   "cell_type": "code",
   "execution_count": null,
   "id": "e54e8b46",
   "metadata": {},
   "outputs": [],
   "source": []
  },
  {
   "cell_type": "code",
   "execution_count": null,
   "id": "b9ba9eb9",
   "metadata": {},
   "outputs": [],
   "source": [
    "ih.inference(img_path=path_info['path'],model=model,weight_path=weights,dictlabel=dictlabel,transform=imgTransform,softmax=False)"
   ]
  }
 ],
 "metadata": {
  "kernelspec": {
   "display_name": "Python 3 (ipykernel)",
   "language": "python",
   "name": "python3"
  },
  "language_info": {
   "codemirror_mode": {
    "name": "ipython",
    "version": 3
   },
   "file_extension": ".py",
   "mimetype": "text/x-python",
   "name": "python",
   "nbconvert_exporter": "python",
   "pygments_lexer": "ipython3",
   "version": "3.9.7"
  }
 },
 "nbformat": 4,
 "nbformat_minor": 5
}
