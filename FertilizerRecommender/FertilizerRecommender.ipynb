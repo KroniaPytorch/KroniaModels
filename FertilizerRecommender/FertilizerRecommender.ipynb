{
 "cells": [
  {
   "cell_type": "markdown",
   "metadata": {},
   "source": [
    "# Fertilizer Recommender- Pytorch Annual Hackathon"
   ]
  },
  {
   "cell_type": "markdown",
   "metadata": {},
   "source": [
    "![](https://gardenerpick.com/wp-content/uploads/2021/06/sweet-corn-fertilizer-recommendations-1.jpg?ezimgfmt=rs:372x248/rscb2/ng:webp/ngcb2)"
   ]
  },
  {
   "cell_type": "code",
   "execution_count": 1,
   "metadata": {
    "execution": {
     "iopub.execute_input": "2021-10-29T16:00:58.424385Z",
     "iopub.status.busy": "2021-10-29T16:00:58.424087Z",
     "iopub.status.idle": "2021-10-29T16:00:59.375946Z",
     "shell.execute_reply": "2021-10-29T16:00:59.374163Z",
     "shell.execute_reply.started": "2021-10-29T16:00:58.424315Z"
    }
   },
   "outputs": [],
   "source": [
    "# Importing libraries\n",
    "\n",
    "from __future__ import print_function\n",
    "import pandas as pd\n",
    "import numpy as np\n",
    "import matplotlib.pyplot as plt\n",
    "import seaborn as sns\n",
    "from sklearn.metrics import classification_report\n",
    "from sklearn import metrics\n",
    "from sklearn import tree\n",
    "import warnings\n",
    "warnings.filterwarnings('ignore')\n",
    "\n",
    "\n",
    "# Input data files are available in the read-only \"../input/\" directory\n",
    "# For example, running this (by clicking run or pressing Shift+Enter) will list all files under the input directory\n",
    "import os\n",
    "for dirname, _, filenames in os.walk('/kaggle/input'):\n",
    "    for filename in filenames:\n",
    "        print(os.path.join(dirname, filename))"
   ]
  },
  {
   "cell_type": "markdown",
   "metadata": {},
   "source": [
    "# Reading dataset"
   ]
  },
  {
   "cell_type": "code",
   "execution_count": 2,
   "metadata": {
    "execution": {
     "iopub.execute_input": "2021-10-29T16:00:59.377795Z",
     "iopub.status.busy": "2021-10-29T16:00:59.377451Z",
     "iopub.status.idle": "2021-10-29T16:00:59.389760Z",
     "shell.execute_reply": "2021-10-29T16:00:59.388803Z",
     "shell.execute_reply.started": "2021-10-29T16:00:59.377758Z"
    }
   },
   "outputs": [],
   "source": [
    "df = pd.read_csv(\"/kaggle/input/fertilizer-prediction/Fertilizer Prediction.csv\")"
   ]
  },
  {
   "cell_type": "code",
   "execution_count": 3,
   "metadata": {
    "execution": {
     "iopub.execute_input": "2021-10-29T16:00:59.392342Z",
     "iopub.status.busy": "2021-10-29T16:00:59.391659Z",
     "iopub.status.idle": "2021-10-29T16:00:59.416032Z",
     "shell.execute_reply": "2021-10-29T16:00:59.415228Z",
     "shell.execute_reply.started": "2021-10-29T16:00:59.392305Z"
    }
   },
   "outputs": [],
   "source": [
    "df.head()"
   ]
  },
  {
   "cell_type": "code",
   "execution_count": 4,
   "metadata": {
    "execution": {
     "iopub.execute_input": "2021-10-29T16:00:59.417975Z",
     "iopub.status.busy": "2021-10-29T16:00:59.417658Z",
     "iopub.status.idle": "2021-10-29T16:00:59.449760Z",
     "shell.execute_reply": "2021-10-29T16:00:59.448896Z",
     "shell.execute_reply.started": "2021-10-29T16:00:59.417942Z"
    }
   },
   "outputs": [],
   "source": [
    "df.describe()"
   ]
  },
  {
   "cell_type": "code",
   "execution_count": 5,
   "metadata": {
    "execution": {
     "iopub.execute_input": "2021-10-29T16:00:59.451365Z",
     "iopub.status.busy": "2021-10-29T16:00:59.451061Z",
     "iopub.status.idle": "2021-10-29T16:00:59.459132Z",
     "shell.execute_reply": "2021-10-29T16:00:59.458109Z",
     "shell.execute_reply.started": "2021-10-29T16:00:59.451333Z"
    }
   },
   "outputs": [],
   "source": [
    "df['Soil Type'].unique()"
   ]
  },
  {
   "cell_type": "code",
   "execution_count": 6,
   "metadata": {
    "execution": {
     "iopub.execute_input": "2021-10-29T16:00:59.461142Z",
     "iopub.status.busy": "2021-10-29T16:00:59.460696Z",
     "iopub.status.idle": "2021-10-29T16:00:59.857445Z",
     "shell.execute_reply": "2021-10-29T16:00:59.856419Z",
     "shell.execute_reply.started": "2021-10-29T16:00:59.461099Z"
    }
   },
   "outputs": [],
   "source": [
    "# grouping soil type and NPK values\n",
    "soil_type=['Sandy', 'Loamy', 'Black', 'Red', 'Clayey']\n",
    "chemicalProp=[]\n",
    "for i in soil_type:\n",
    "    dict_N={'MAX':df[df['Soil Type']==i].describe()['Nitrogen'].loc['max'],'MIN':df[df['Soil Type']==i].describe()['Nitrogen'].loc['min']}\n",
    "    dict_K={'MAX':df[df['Soil Type']==i].describe()['Potassium'].loc['max'],'MIN':df[df['Soil Type']==i].describe()['Potassium'].loc['min']}\n",
    "    dict_P={'MAX':df[df['Soil Type']==i].describe()['Phosphorous'].loc['max'],'MIN':df[df['Soil Type']==i].describe()['Phosphorous'].loc['min']}\n",
    "    dict_Soil={i:{'Nitrogen':dict_N,'Potassium':dict_K,'Phosphorous':dict_P}}\n",
    "    chemicalProp.append(dict_Soil)\n",
    "\n",
    "    \n"
   ]
  },
  {
   "cell_type": "code",
   "execution_count": 7,
   "metadata": {
    "execution": {
     "iopub.execute_input": "2021-10-29T16:00:59.859085Z",
     "iopub.status.busy": "2021-10-29T16:00:59.858716Z",
     "iopub.status.idle": "2021-10-29T16:00:59.866758Z",
     "shell.execute_reply": "2021-10-29T16:00:59.865583Z",
     "shell.execute_reply.started": "2021-10-29T16:00:59.859045Z"
    }
   },
   "outputs": [],
   "source": [
    "#Chemical Properties in every soil type\n",
    "chemicalProp"
   ]
  },
  {
   "cell_type": "markdown",
   "metadata": {},
   "source": [
    "# Visualizing Data"
   ]
  },
  {
   "cell_type": "code",
   "execution_count": 8,
   "metadata": {
    "execution": {
     "iopub.execute_input": "2021-10-29T16:00:59.870831Z",
     "iopub.status.busy": "2021-10-29T16:00:59.870430Z",
     "iopub.status.idle": "2021-10-29T16:01:00.033867Z",
     "shell.execute_reply": "2021-10-29T16:01:00.032956Z",
     "shell.execute_reply.started": "2021-10-29T16:00:59.870792Z"
    }
   },
   "outputs": [],
   "source": [
    "import seaborn as sns\n",
    "sns.countplot(x='Soil Type', data = df)"
   ]
  },
  {
   "cell_type": "code",
   "execution_count": 9,
   "metadata": {
    "execution": {
     "iopub.execute_input": "2021-10-29T16:01:00.036364Z",
     "iopub.status.busy": "2021-10-29T16:01:00.036013Z",
     "iopub.status.idle": "2021-10-29T16:01:00.223434Z",
     "shell.execute_reply": "2021-10-29T16:01:00.222568Z",
     "shell.execute_reply.started": "2021-10-29T16:01:00.036325Z"
    }
   },
   "outputs": [],
   "source": [
    "import seaborn as sns\n",
    "import matplotlib.pyplot as plt\n",
    "plt.figure(figsize=(16,8))\n",
    "sns.countplot(x='Crop Type', data = df)"
   ]
  },
  {
   "cell_type": "code",
   "execution_count": 10,
   "metadata": {
    "execution": {
     "iopub.execute_input": "2021-10-29T16:01:00.225175Z",
     "iopub.status.busy": "2021-10-29T16:01:00.224681Z",
     "iopub.status.idle": "2021-10-29T16:01:00.377554Z",
     "shell.execute_reply": "2021-10-29T16:01:00.376708Z",
     "shell.execute_reply.started": "2021-10-29T16:01:00.225135Z"
    }
   },
   "outputs": [],
   "source": [
    "import seaborn as sns\n",
    "import matplotlib.pyplot as plt\n",
    "plt.figure(figsize=(16,8))\n",
    "sns.countplot(x='Fertilizer Name', data = df)"
   ]
  },
  {
   "cell_type": "code",
   "execution_count": 11,
   "metadata": {
    "execution": {
     "iopub.execute_input": "2021-10-29T16:01:00.379264Z",
     "iopub.status.busy": "2021-10-29T16:01:00.378796Z",
     "iopub.status.idle": "2021-10-29T16:01:00.387605Z",
     "shell.execute_reply": "2021-10-29T16:01:00.386725Z",
     "shell.execute_reply.started": "2021-10-29T16:01:00.379224Z"
    }
   },
   "outputs": [],
   "source": [
    "#Defining function for Continuous and catogorical variable\n",
    "def plot_conti(x):\n",
    "    fig, axes = plt.subplots(nrows=1,ncols=3,figsize=(15,5),tight_layout=True)\n",
    "    axes[0].set_title('Histogram')\n",
    "    sns.histplot(x,ax=axes[0])\n",
    "    axes[1].set_title('Checking Outliers')\n",
    "    sns.boxplot(x,ax=axes[1])\n",
    "    axes[2].set_title('Relation with output variable')\n",
    "    sns.boxplot(y = x,x = df['Fertilizer Name'])\n",
    "    \n",
    "def plot_cato(x):\n",
    "    fig, axes = plt.subplots(nrows=1,ncols=2,figsize=(15,5),tight_layout=True)\n",
    "    axes[0].set_title('Count Plot')\n",
    "    sns.countplot(x,ax=axes[0])\n",
    "    axes[1].set_title('Relation with output variable')\n",
    "    sns.countplot(x = x,hue = df['Fertilizer Name'], ax=axes[1])"
   ]
  },
  {
   "cell_type": "code",
   "execution_count": 12,
   "metadata": {
    "execution": {
     "iopub.execute_input": "2021-10-29T16:01:00.389225Z",
     "iopub.status.busy": "2021-10-29T16:01:00.388871Z",
     "iopub.status.idle": "2021-10-29T16:01:01.112009Z",
     "shell.execute_reply": "2021-10-29T16:01:01.111224Z",
     "shell.execute_reply.started": "2021-10-29T16:01:00.389191Z"
    }
   },
   "outputs": [],
   "source": [
    "#EDA - Temparature variable\n",
    "plot_conti(df['Temparature'])"
   ]
  },
  {
   "cell_type": "code",
   "execution_count": 13,
   "metadata": {
    "execution": {
     "iopub.execute_input": "2021-10-29T16:01:01.114344Z",
     "iopub.status.busy": "2021-10-29T16:01:01.113753Z",
     "iopub.status.idle": "2021-10-29T16:01:01.688182Z",
     "shell.execute_reply": "2021-10-29T16:01:01.687409Z",
     "shell.execute_reply.started": "2021-10-29T16:01:01.114302Z"
    }
   },
   "outputs": [],
   "source": [
    "#EDA - Humidity variable\n",
    "plot_conti(df['Humidity '])"
   ]
  },
  {
   "cell_type": "code",
   "execution_count": 14,
   "metadata": {
    "execution": {
     "iopub.execute_input": "2021-10-29T16:01:01.689858Z",
     "iopub.status.busy": "2021-10-29T16:01:01.689510Z",
     "iopub.status.idle": "2021-10-29T16:01:02.308755Z",
     "shell.execute_reply": "2021-10-29T16:01:02.307887Z",
     "shell.execute_reply.started": "2021-10-29T16:01:01.689822Z"
    }
   },
   "outputs": [],
   "source": [
    "#EDA - Potassium variable\n",
    "plot_conti(df['Potassium'])"
   ]
  },
  {
   "cell_type": "code",
   "execution_count": 15,
   "metadata": {
    "execution": {
     "iopub.execute_input": "2021-10-29T16:01:02.310482Z",
     "iopub.status.busy": "2021-10-29T16:01:02.310153Z",
     "iopub.status.idle": "2021-10-29T16:01:02.906285Z",
     "shell.execute_reply": "2021-10-29T16:01:02.905371Z",
     "shell.execute_reply.started": "2021-10-29T16:01:02.310446Z"
    }
   },
   "outputs": [],
   "source": [
    "#EDA - Phosphorous variable\n",
    "plot_conti(df['Phosphorous'])"
   ]
  },
  {
   "cell_type": "markdown",
   "metadata": {},
   "source": [
    "# Preprocessing"
   ]
  },
  {
   "cell_type": "code",
   "execution_count": 16,
   "metadata": {
    "execution": {
     "iopub.execute_input": "2021-10-29T16:01:02.907981Z",
     "iopub.status.busy": "2021-10-29T16:01:02.907497Z",
     "iopub.status.idle": "2021-10-29T16:01:02.926200Z",
     "shell.execute_reply": "2021-10-29T16:01:02.925392Z",
     "shell.execute_reply.started": "2021-10-29T16:01:02.907941Z"
    }
   },
   "outputs": [],
   "source": [
    "from sklearn import preprocessing\n",
    " \n",
    "# label_encoder object knows how to understand word labels.\n",
    "label_encoder = preprocessing.LabelEncoder()\n",
    "\n",
    "df['FertilizerNameE']= label_encoder.fit_transform(df['Fertilizer Name'].values)\n",
    "\n",
    "df2=df.copy()\n",
    "\n",
    "df2=df2.drop_duplicates('Fertilizer Name')\n",
    "\n",
    "df2"
   ]
  },
  {
   "cell_type": "code",
   "execution_count": 17,
   "metadata": {
    "execution": {
     "iopub.execute_input": "2021-10-29T16:01:02.927839Z",
     "iopub.status.busy": "2021-10-29T16:01:02.927450Z",
     "iopub.status.idle": "2021-10-29T16:01:02.938342Z",
     "shell.execute_reply": "2021-10-29T16:01:02.937419Z",
     "shell.execute_reply.started": "2021-10-29T16:01:02.927803Z"
    }
   },
   "outputs": [],
   "source": [
    "df['FertilizerNameE'].unique()"
   ]
  },
  {
   "cell_type": "markdown",
   "metadata": {},
   "source": [
    "### Encoding Soil Type for training"
   ]
  },
  {
   "cell_type": "code",
   "execution_count": 18,
   "metadata": {
    "execution": {
     "iopub.execute_input": "2021-10-29T16:01:02.940281Z",
     "iopub.status.busy": "2021-10-29T16:01:02.939807Z",
     "iopub.status.idle": "2021-10-29T16:01:02.954120Z",
     "shell.execute_reply": "2021-10-29T16:01:02.953170Z",
     "shell.execute_reply.started": "2021-10-29T16:01:02.940244Z"
    }
   },
   "outputs": [],
   "source": [
    "from sklearn.preprocessing import LabelEncoder\n",
    "\n",
    "encode_soil = LabelEncoder()\n",
    "df['Soil Type'] = encode_soil.fit_transform(df['Soil Type'])\n",
    "\n",
    "#creating the DataFrame\n",
    "Soil_Type = pd.DataFrame(zip(encode_soil.classes_,encode_soil.transform(encode_soil.classes_)),columns=['Original','Encoded'])\n",
    "Soil_Type = Soil_Type.set_index('Original')\n",
    "Soil_Type"
   ]
  },
  {
   "cell_type": "code",
   "execution_count": 19,
   "metadata": {
    "execution": {
     "iopub.execute_input": "2021-10-29T16:01:02.955849Z",
     "iopub.status.busy": "2021-10-29T16:01:02.955496Z",
     "iopub.status.idle": "2021-10-29T16:01:02.967610Z",
     "shell.execute_reply": "2021-10-29T16:01:02.966741Z",
     "shell.execute_reply.started": "2021-10-29T16:01:02.955815Z"
    }
   },
   "outputs": [],
   "source": [
    "df.head()"
   ]
  },
  {
   "cell_type": "code",
   "execution_count": 20,
   "metadata": {
    "execution": {
     "iopub.execute_input": "2021-10-29T16:01:02.969666Z",
     "iopub.status.busy": "2021-10-29T16:01:02.969015Z",
     "iopub.status.idle": "2021-10-29T16:01:02.976508Z",
     "shell.execute_reply": "2021-10-29T16:01:02.975603Z",
     "shell.execute_reply.started": "2021-10-29T16:01:02.969629Z"
    }
   },
   "outputs": [],
   "source": [
    "# splitting feature columns and target column\n",
    "features = df[['Temparature', 'Humidity ','Moisture','Soil Type', 'Nitrogen', 'Phosphorous', 'Potassium']]\n",
    "target = df['FertilizerNameE']\n",
    "labels = df['FertilizerNameE']"
   ]
  },
  {
   "cell_type": "code",
   "execution_count": 21,
   "metadata": {
    "execution": {
     "iopub.execute_input": "2021-10-29T16:01:02.978614Z",
     "iopub.status.busy": "2021-10-29T16:01:02.978030Z",
     "iopub.status.idle": "2021-10-29T16:01:02.985615Z",
     "shell.execute_reply": "2021-10-29T16:01:02.984864Z",
     "shell.execute_reply.started": "2021-10-29T16:01:02.978576Z"
    }
   },
   "outputs": [],
   "source": [
    "# Initializing empty lists to append all model's name and corresponding name\n",
    "acc = []\n",
    "model = []"
   ]
  },
  {
   "cell_type": "markdown",
   "metadata": {},
   "source": [
    "# PyTorch Model Setup and Training"
   ]
  },
  {
   "cell_type": "code",
   "execution_count": 22,
   "metadata": {
    "execution": {
     "iopub.execute_input": "2021-10-29T16:01:02.988781Z",
     "iopub.status.busy": "2021-10-29T16:01:02.988503Z",
     "iopub.status.idle": "2021-10-29T16:01:02.996608Z",
     "shell.execute_reply": "2021-10-29T16:01:02.995593Z",
     "shell.execute_reply.started": "2021-10-29T16:01:02.988757Z"
    }
   },
   "outputs": [],
   "source": [
    "# function to get the count of classes\n",
    "def get_class_distribution(obj):\n",
    "    count_dict = {\n",
    "        'Urea':0, 'DAP':0, '14-35-14':0, '28-28':0, '17-17-17':0,\n",
    "       '20-20':0, '10-26-26':0}\n",
    "    \n",
    "    for i in obj:\n",
    "        if i == 0: \n",
    "            count_dict['10-26-26'] += 1\n",
    "        elif i == 1: \n",
    "            count_dict['14-35-14'] += 1\n",
    "        elif i == 2: \n",
    "            count_dict['17-17-17'] += 1\n",
    "        elif i == 3: \n",
    "            count_dict['20-20'] += 1\n",
    "        elif i == 4: \n",
    "            count_dict['28-28'] += 1  \n",
    "        elif i == 5: \n",
    "            count_dict['DAP'] += 1\n",
    "        elif i == 6: \n",
    "            count_dict['Urea'] += 1  \n",
    "        else:\n",
    "            print(i)\n",
    "            print(\"\\nCheck classes.\")\n",
    "            \n",
    "    return count_dict"
   ]
  },
  {
   "cell_type": "code",
   "execution_count": 23,
   "metadata": {
    "execution": {
     "iopub.execute_input": "2021-10-29T16:01:03.002202Z",
     "iopub.status.busy": "2021-10-29T16:01:03.001913Z",
     "iopub.status.idle": "2021-10-29T16:01:04.299744Z",
     "shell.execute_reply": "2021-10-29T16:01:04.298891Z",
     "shell.execute_reply.started": "2021-10-29T16:01:03.002171Z"
    }
   },
   "outputs": [],
   "source": [
    "# !Importing torch libraries\n",
    "from tqdm.notebook import tqdm\n",
    "import torch\n",
    "import torch.nn as nn\n",
    "import torch.optim as optim\n",
    "from torch.utils.data import Dataset, DataLoader, WeightedRandomSampler"
   ]
  },
  {
   "cell_type": "code",
   "execution_count": 24,
   "metadata": {
    "execution": {
     "iopub.execute_input": "2021-10-29T16:01:04.301974Z",
     "iopub.status.busy": "2021-10-29T16:01:04.301657Z",
     "iopub.status.idle": "2021-10-29T16:01:04.315304Z",
     "shell.execute_reply": "2021-10-29T16:01:04.314317Z",
     "shell.execute_reply.started": "2021-10-29T16:01:04.301940Z"
    }
   },
   "outputs": [],
   "source": [
    "# Splitting into train and test data\n",
    "\n",
    "from sklearn.model_selection import train_test_split\n",
    "# Split into train+val and test\n",
    "X_trainval, X_test, y_trainval, y_test = train_test_split(features, target, test_size=0.2, stratify=target, random_state=69)\n",
    "\n",
    "# Split train into train-val\n",
    "X_train, X_val, y_train, y_val = train_test_split(X_trainval, y_trainval, test_size=0.1, stratify=y_trainval, random_state=21)\n",
    "\n",
    "X_train= np.array(X_train)\n",
    "y_train= np.array(y_train)\n",
    "X_val=np.array(X_val)\n",
    "y_val=np.array(y_val)\n",
    "X_test= np.array(X_test)\n",
    "y_test =  np.array(y_test)"
   ]
  },
  {
   "cell_type": "code",
   "execution_count": 25,
   "metadata": {
    "execution": {
     "iopub.execute_input": "2021-10-29T16:01:04.317034Z",
     "iopub.status.busy": "2021-10-29T16:01:04.316565Z",
     "iopub.status.idle": "2021-10-29T16:01:04.343486Z",
     "shell.execute_reply": "2021-10-29T16:01:04.342768Z",
     "shell.execute_reply.started": "2021-10-29T16:01:04.316982Z"
    }
   },
   "outputs": [],
   "source": [
    "# passing the test, train and sample data to the DataLoader\n",
    "class ClassifierDataset(Dataset):\n",
    "    \n",
    "    def __init__(self, X_data, y_data):\n",
    "        self.X_data = X_data\n",
    "        self.y_data = y_data\n",
    "        \n",
    "    def __getitem__(self, index):\n",
    "        return self.X_data[index], self.y_data[index]\n",
    "        \n",
    "    def __len__ (self):\n",
    "        return len(self.X_data)\n",
    "\n",
    "\n",
    "train_dataset = ClassifierDataset(torch.from_numpy(X_train).float(), torch.from_numpy(y_train).long())\n",
    "val_dataset = ClassifierDataset(torch.from_numpy(X_val).float(), torch.from_numpy(y_val).long())\n",
    "test_dataset = ClassifierDataset(torch.from_numpy(X_test).float(), torch.from_numpy(y_test).long())"
   ]
  },
  {
   "cell_type": "code",
   "execution_count": 26,
   "metadata": {
    "execution": {
     "iopub.execute_input": "2021-10-29T16:01:04.344968Z",
     "iopub.status.busy": "2021-10-29T16:01:04.344644Z",
     "iopub.status.idle": "2021-10-29T16:01:04.370607Z",
     "shell.execute_reply": "2021-10-29T16:01:04.369932Z",
     "shell.execute_reply.started": "2021-10-29T16:01:04.344935Z"
    }
   },
   "outputs": [],
   "source": [
    "target_list = []  # List of outputs\n",
    "for _, t in train_dataset:\n",
    "    target_list.append(t)\n",
    "    \n",
    "target_list = torch.tensor(target_list) # convert to tensor\n",
    "target_list = target_list[torch.randperm(len(target_list))]"
   ]
  },
  {
   "cell_type": "code",
   "execution_count": 27,
   "metadata": {
    "execution": {
     "iopub.execute_input": "2021-10-29T16:01:04.372161Z",
     "iopub.status.busy": "2021-10-29T16:01:04.371806Z",
     "iopub.status.idle": "2021-10-29T16:01:04.415023Z",
     "shell.execute_reply": "2021-10-29T16:01:04.414221Z",
     "shell.execute_reply.started": "2021-10-29T16:01:04.372128Z"
    }
   },
   "outputs": [],
   "source": [
    "# getting the class count and class wights by reciprocal\n",
    "class_count = [i for i in get_class_distribution(y_train).values()]\n",
    "class_weights = 1./torch.tensor(class_count, dtype=torch.float) \n",
    "print(class_weights)"
   ]
  },
  {
   "cell_type": "code",
   "execution_count": 28,
   "metadata": {
    "execution": {
     "iopub.execute_input": "2021-10-29T16:01:04.416555Z",
     "iopub.status.busy": "2021-10-29T16:01:04.416210Z",
     "iopub.status.idle": "2021-10-29T16:01:04.420954Z",
     "shell.execute_reply": "2021-10-29T16:01:04.419929Z",
     "shell.execute_reply.started": "2021-10-29T16:01:04.416519Z"
    }
   },
   "outputs": [],
   "source": [
    "class_weights_all = class_weights[target_list]\n"
   ]
  },
  {
   "cell_type": "code",
   "execution_count": 29,
   "metadata": {
    "execution": {
     "iopub.execute_input": "2021-10-29T16:01:04.422984Z",
     "iopub.status.busy": "2021-10-29T16:01:04.422622Z",
     "iopub.status.idle": "2021-10-29T16:01:04.429854Z",
     "shell.execute_reply": "2021-10-29T16:01:04.428912Z",
     "shell.execute_reply.started": "2021-10-29T16:01:04.422948Z"
    }
   },
   "outputs": [],
   "source": [
    "# oversampling mini batch with class of less values\n",
    "weighted_sampler = WeightedRandomSampler(\n",
    "    weights=class_weights_all,\n",
    "    num_samples=len(class_weights_all),\n",
    "    replacement=True\n",
    ")"
   ]
  },
  {
   "cell_type": "code",
   "execution_count": 30,
   "metadata": {
    "execution": {
     "iopub.execute_input": "2021-10-29T16:01:04.431687Z",
     "iopub.status.busy": "2021-10-29T16:01:04.431213Z",
     "iopub.status.idle": "2021-10-29T16:01:04.438684Z",
     "shell.execute_reply": "2021-10-29T16:01:04.437752Z",
     "shell.execute_reply.started": "2021-10-29T16:01:04.431650Z"
    }
   },
   "outputs": [],
   "source": [
    "EPOCHS = 300\n",
    "BATCH_SIZE = 16\n",
    "LEARNING_RATE = 0.0007\n",
    "NUM_FEATURES = len(features.columns)\n",
    "NUM_CLASSES = 7"
   ]
  },
  {
   "cell_type": "code",
   "execution_count": 31,
   "metadata": {
    "execution": {
     "iopub.execute_input": "2021-10-29T16:01:04.440531Z",
     "iopub.status.busy": "2021-10-29T16:01:04.440146Z",
     "iopub.status.idle": "2021-10-29T16:01:04.447946Z",
     "shell.execute_reply": "2021-10-29T16:01:04.447162Z",
     "shell.execute_reply.started": "2021-10-29T16:01:04.440495Z"
    }
   },
   "outputs": [],
   "source": [
    "# loading datasets for torch compatibility\n",
    "train_loader = DataLoader(dataset=train_dataset,\n",
    "                          batch_size=BATCH_SIZE,\n",
    "                          sampler=weighted_sampler\n",
    ")\n",
    "val_loader = DataLoader(dataset=val_dataset, batch_size=1)\n",
    "\n",
    "test_loader = DataLoader(dataset=test_dataset, batch_size=1)"
   ]
  },
  {
   "cell_type": "code",
   "execution_count": 32,
   "metadata": {
    "execution": {
     "iopub.execute_input": "2021-10-29T16:01:04.450029Z",
     "iopub.status.busy": "2021-10-29T16:01:04.449430Z",
     "iopub.status.idle": "2021-10-29T16:01:04.460007Z",
     "shell.execute_reply": "2021-10-29T16:01:04.459059Z",
     "shell.execute_reply.started": "2021-10-29T16:01:04.449973Z"
    }
   },
   "outputs": [],
   "source": [
    "# Defining classifier torch class\n",
    "class FertilizerClassification(nn.Module):\n",
    "    def __init__(self, num_feature, num_class):\n",
    "        super(FertilizerClassification, self).__init__()\n",
    "        \n",
    "        self.layer_1 = nn.Linear(num_feature, 512)\n",
    "        self.layer_2 = nn.Linear(512, 128)\n",
    "        self.layer_3 = nn.Linear(128, 64)\n",
    "        self.layer_out = nn.Linear(64, num_class) \n",
    "        \n",
    "        self.relu = nn.ReLU()\n",
    "        self.dropout = nn.Dropout(p=0.2)\n",
    "        self.batchnorm1 = nn.BatchNorm1d(512)\n",
    "        self.batchnorm2 = nn.BatchNorm1d(128)\n",
    "        self.batchnorm3 = nn.BatchNorm1d(64)\n",
    "        \n",
    "    def forward(self, x):\n",
    "        x = self.layer_1(x)\n",
    "        x = self.batchnorm1(x)\n",
    "        x = self.relu(x)\n",
    "        \n",
    "        x = self.layer_2(x)\n",
    "        x = self.batchnorm2(x)\n",
    "        x = self.relu(x)\n",
    "        x = self.dropout(x)\n",
    "        \n",
    "        x = self.layer_3(x)\n",
    "        x = self.batchnorm3(x)\n",
    "        x = self.relu(x)\n",
    "        x = self.dropout(x)\n",
    "        \n",
    "        x = self.layer_out(x)\n",
    "        \n",
    "        return x"
   ]
  },
  {
   "cell_type": "code",
   "execution_count": 33,
   "metadata": {
    "execution": {
     "iopub.execute_input": "2021-10-29T16:01:04.461923Z",
     "iopub.status.busy": "2021-10-29T16:01:04.461312Z",
     "iopub.status.idle": "2021-10-29T16:01:04.526434Z",
     "shell.execute_reply": "2021-10-29T16:01:04.525469Z",
     "shell.execute_reply.started": "2021-10-29T16:01:04.461888Z"
    }
   },
   "outputs": [],
   "source": [
    "# Setting the device for model training\n",
    "device = torch.device(\"cuda:0\" if torch.cuda.is_available() else \"cpu\")\n",
    "print(device)"
   ]
  },
  {
   "cell_type": "code",
   "execution_count": 34,
   "metadata": {
    "execution": {
     "iopub.execute_input": "2021-10-29T16:01:04.527997Z",
     "iopub.status.busy": "2021-10-29T16:01:04.527633Z",
     "iopub.status.idle": "2021-10-29T16:01:08.861393Z",
     "shell.execute_reply": "2021-10-29T16:01:08.859810Z",
     "shell.execute_reply.started": "2021-10-29T16:01:04.527958Z"
    }
   },
   "outputs": [],
   "source": [
    "# creating model class instance and printing\n",
    "model = FertilizerClassification(num_feature = NUM_FEATURES, num_class=NUM_CLASSES)\n",
    "model.to(device)\n",
    "\n",
    "criterion = nn.CrossEntropyLoss(weight=class_weights.to(device))\n",
    "optimizer = optim.Adam(model.parameters(), lr=LEARNING_RATE)\n",
    "print(model)"
   ]
  },
  {
   "cell_type": "code",
   "execution_count": 35,
   "metadata": {
    "execution": {
     "iopub.execute_input": "2021-10-29T16:01:08.862952Z",
     "iopub.status.busy": "2021-10-29T16:01:08.862640Z",
     "iopub.status.idle": "2021-10-29T16:01:08.868191Z",
     "shell.execute_reply": "2021-10-29T16:01:08.866966Z",
     "shell.execute_reply.started": "2021-10-29T16:01:08.862922Z"
    }
   },
   "outputs": [],
   "source": [
    "# defining the model accuracy function during train\n",
    "def multi_acc(y_pred, y_test):\n",
    "    y_pred_softmax = torch.log_softmax(y_pred, dim = 1)\n",
    "    _, y_pred_tags = torch.max(y_pred_softmax, dim = 1)    \n",
    "    \n",
    "    correct_pred = (y_pred_tags == y_test).float()\n",
    "    acc = correct_pred.sum() / len(correct_pred)\n",
    "    \n",
    "    acc = torch.round(acc * 100)\n",
    "    \n",
    "    return acc"
   ]
  },
  {
   "cell_type": "code",
   "execution_count": 36,
   "metadata": {
    "execution": {
     "iopub.execute_input": "2021-10-29T16:01:08.870277Z",
     "iopub.status.busy": "2021-10-29T16:01:08.869636Z",
     "iopub.status.idle": "2021-10-29T16:01:08.877978Z",
     "shell.execute_reply": "2021-10-29T16:01:08.877073Z",
     "shell.execute_reply.started": "2021-10-29T16:01:08.870239Z"
    }
   },
   "outputs": [],
   "source": [
    "accuracy_stats = {\n",
    "    'train': [],\n",
    "    \"val\": []\n",
    "}\n",
    "loss_stats = {\n",
    "    'train': [],\n",
    "    \"val\": []\n",
    "}"
   ]
  },
  {
   "cell_type": "code",
   "execution_count": 37,
   "metadata": {
    "execution": {
     "iopub.execute_input": "2021-10-29T16:01:08.880348Z",
     "iopub.status.busy": "2021-10-29T16:01:08.879396Z",
     "iopub.status.idle": "2021-10-29T16:01:18.372432Z",
     "shell.execute_reply": "2021-10-29T16:01:18.364106Z",
     "shell.execute_reply.started": "2021-10-29T16:01:08.880310Z"
    }
   },
   "outputs": [],
   "source": [
    "print(\"Begin training.\")\n",
    "for e in tqdm(range(1, EPOCHS+1)):\n",
    "    \n",
    "    # TRAINING\n",
    "    train_epoch_loss = 0\n",
    "    train_epoch_acc = 0\n",
    "    model.train()\n",
    "    for X_train_batch, y_train_batch in train_loader:\n",
    "        X_train_batch, y_train_batch = X_train_batch.to(device), y_train_batch.to(device)\n",
    "        optimizer.zero_grad()\n",
    "        \n",
    "        y_train_pred = model(X_train_batch)\n",
    "        \n",
    "        train_loss = criterion(y_train_pred, y_train_batch)\n",
    "        train_acc = multi_acc(y_train_pred, y_train_batch)\n",
    "        \n",
    "        train_loss.backward()\n",
    "        optimizer.step()\n",
    "        \n",
    "        train_epoch_loss += train_loss.item()\n",
    "        train_epoch_acc += train_acc.item()\n",
    "        \n",
    "        \n",
    "    # VALIDATION    \n",
    "    with torch.no_grad():\n",
    "        \n",
    "        val_epoch_loss = 0\n",
    "        val_epoch_acc = 0\n",
    "        \n",
    "        model.eval()\n",
    "        for X_val_batch, y_val_batch in val_loader:\n",
    "            X_val_batch, y_val_batch = X_val_batch.to(device), y_val_batch.to(device)\n",
    "            \n",
    "            y_val_pred = model(X_val_batch)\n",
    "                        \n",
    "            val_loss = criterion(y_val_pred, y_val_batch)\n",
    "            val_acc = multi_acc(y_val_pred, y_val_batch)\n",
    "            \n",
    "            val_epoch_loss += val_loss.item()\n",
    "            val_epoch_acc += val_acc.item()\n",
    "    loss_stats['train'].append(train_epoch_loss/len(train_loader))\n",
    "    loss_stats['val'].append(val_epoch_loss/len(val_loader))\n",
    "    accuracy_stats['train'].append(train_epoch_acc/len(train_loader))\n",
    "    accuracy_stats['val'].append(val_epoch_acc/len(val_loader))\n",
    "                              \n",
    "    \n",
    "    print(f'Epoch {e+0:03}: | Train Loss: {train_epoch_loss/len(train_loader):.5f} | Val Loss: {val_epoch_loss/len(val_loader):.5f} | Train Acc: {train_epoch_acc/len(train_loader):.3f}| Val Acc: {val_epoch_acc/len(val_loader):.3f}')"
   ]
  },
  {
   "cell_type": "code",
   "execution_count": 38,
   "metadata": {
    "execution": {
     "iopub.execute_input": "2021-10-29T16:01:18.374202Z",
     "iopub.status.busy": "2021-10-29T16:01:18.373851Z",
     "iopub.status.idle": "2021-10-29T16:01:18.710770Z",
     "shell.execute_reply": "2021-10-29T16:01:18.709899Z",
     "shell.execute_reply.started": "2021-10-29T16:01:18.374165Z"
    }
   },
   "outputs": [],
   "source": [
    "# Visualizing the loss curve\n",
    "fig = plt.figure(figsize=(20,10))\n",
    "plt.title(\"Loss Curve-Train vs Validation\")\n",
    "plt.plot( loss_stats['train'], label='train')\n",
    "plt.plot( loss_stats['val'], label='validation')\n",
    "plt.xlabel('num_epochs', fontsize=12)\n",
    "plt.ylabel('loss', fontsize=12)\n",
    "plt.legend(loc='best')"
   ]
  },
  {
   "cell_type": "markdown",
   "metadata": {},
   "source": [
    "# Saving the torch Model"
   ]
  },
  {
   "cell_type": "code",
   "execution_count": 39,
   "metadata": {
    "execution": {
     "iopub.execute_input": "2021-10-29T16:01:18.712649Z",
     "iopub.status.busy": "2021-10-29T16:01:18.712114Z",
     "iopub.status.idle": "2021-10-29T16:01:18.751685Z",
     "shell.execute_reply": "2021-10-29T16:01:18.750810Z",
     "shell.execute_reply.started": "2021-10-29T16:01:18.712610Z"
    }
   },
   "outputs": [],
   "source": [
    "'''\n",
    "PATH_OP = 'fertilizer.pth'\n",
    "\n",
    "print(\"!Begin Saving\")\n",
    "\n",
    "\n",
    "torch.save(model.state_dict(), PATH_OP)\n",
    "\n",
    "print('!Model Saved')\n",
    "# Model class must be defined somewhere\n",
    "model2 = FertilizerClassification(num_feature = NUM_FEATURES, num_class=NUM_CLASSES)\n",
    "device = torch.device(\"cuda:0\" if torch.cuda.is_available() else \"cpu\")\n",
    "model2.to(device)\n",
    "model2.load_state_dict(torch.load(PATH_OP))\n",
    "\n",
    "model2.eval()\n",
    "'''"
   ]
  },
  {
   "cell_type": "code",
   "execution_count": 40,
   "metadata": {
    "execution": {
     "iopub.execute_input": "2021-10-29T16:01:18.757783Z",
     "iopub.status.busy": "2021-10-29T16:01:18.755664Z",
     "iopub.status.idle": "2021-10-29T16:01:18.786394Z",
     "shell.execute_reply": "2021-10-29T16:01:18.785665Z",
     "shell.execute_reply.started": "2021-10-29T16:01:18.757745Z"
    }
   },
   "outputs": [],
   "source": [
    "'''\n",
    "y_pred_list = []\n",
    "with torch.no_grad():\n",
    "    model2.eval()\n",
    "    for X_batch, _ in test_loader:\n",
    "        X_batch = X_batch.to(device)\n",
    "        y_test_pred = model2(X_batch)\n",
    "        _, y_pred_tags = torch.max(y_test_pred, dim = 1)\n",
    "        y_pred_list.append(y_pred_tags.cpu().numpy())\n",
    "y_pred_list = [a.squeeze().tolist() for a in y_pred_list]\n",
    "'''"
   ]
  },
  {
   "cell_type": "code",
   "execution_count": 41,
   "metadata": {
    "execution": {
     "iopub.execute_input": "2021-10-29T16:01:18.792262Z",
     "iopub.status.busy": "2021-10-29T16:01:18.790146Z",
     "iopub.status.idle": "2021-10-29T16:01:18.808543Z",
     "shell.execute_reply": "2021-10-29T16:01:18.807751Z",
     "shell.execute_reply.started": "2021-10-29T16:01:18.792225Z"
    }
   },
   "outputs": [],
   "source": [
    "'''\n",
    "from sklearn.metrics import classification_report\n",
    "print(classification_report(y_test, y_pred_list))\n",
    "'''"
   ]
  },
  {
   "cell_type": "markdown",
   "metadata": {},
   "source": [
    "# Thank You!"
   ]
  }
 ],
 "metadata": {
  "kernelspec": {
   "display_name": "Python 3 (ipykernel)",
   "language": "python",
   "name": "python3"
  },
  "language_info": {
   "codemirror_mode": {
    "name": "ipython",
    "version": 3
   },
   "file_extension": ".py",
   "mimetype": "text/x-python",
   "name": "python",
   "nbconvert_exporter": "python",
   "pygments_lexer": "ipython3",
   "version": "3.9.7"
  }
 },
 "nbformat": 4,
 "nbformat_minor": 4
}
